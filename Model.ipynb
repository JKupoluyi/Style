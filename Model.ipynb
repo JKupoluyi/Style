{
 "cells": [
  {
   "cell_type": "code",
   "execution_count": 5,
   "metadata": {},
   "outputs": [],
   "source": [
    "import tensorflow as tf\n",
    "from keras.layers import Dense, LSTM, Activation, Bidirectional, Dropout\n",
    "from keras.models import Sequential\n",
    "import keras.backend as K"
   ]
  },
  {
   "cell_type": "code",
   "execution_count": null,
   "metadata": {},
   "outputs": [],
   "source": [
    "def reconstructionLoss(yTrue, yPred):\n",
    "    return K.sum(K.log(yTrue) - K.log(yPred))"
   ]
  },
  {
   "cell_type": "code",
   "execution_count": null,
   "metadata": {},
   "outputs": [],
   "source": [
    "def divergenceLoss()"
   ]
  },
  {
   "cell_type": "code",
   "execution_count": null,
   "metadata": {},
   "outputs": [],
   "source": [
    "def CreateEncoder(input_num, output_num, hyperparams):\n",
    "    #TODO Bidirectional LSTM.\n",
    "    # TODO MAYBE: Add in more regularization or different than dropout?\n",
    "    model = Sequential([\n",
    "        Bidirectional(LSTM(32, activation='tanh', return_sequences=True, input_shape=(batch_size, time_steps, features))),\n",
    "        Dropout(0.2),\n",
    "        Bidirectional(LSTM(32, activation='tanh', dropout=0.2, return_sequences=False)),\n",
    "        Dropout(0.5),\n",
    "        Dense(output_num)\n",
    "    ])\n",
    "    \n",
    "    \n",
    "    \n",
    "    model.compile()\n",
    "    return model"
   ]
  },
  {
   "cell_type": "code",
   "execution_count": null,
   "metadata": {},
   "outputs": [],
   "source": [
    "# k is num of domains.\n",
    "# encoders is a list of encoders.\n",
    "# decoders is list of decoders.\n",
    "# samples is a K x N array of samples, where the first index is the domain,\n",
    "# the second index is the # of the sample in that domain.\n",
    "\n",
    "def trainAutoencoders(k, encoders, decoders, samples):\n",
    "    N = samples.shape[0]\n",
    "    \n",
    "    for i in range(k):\n",
    "        while(not isConverged(encoders[i], decoders[i])):\n",
    "            p_Xi_samples = samples[i,:]\n",
    "            p_Z_samples = projectZ(encoders[i](samples[]))\n",
    "            p_Ni_samples = None # TODO Something!\n",
    "            "
   ]
  }
 ],
 "metadata": {
  "kernelspec": {
   "display_name": "Python 3",
   "language": "python",
   "name": "python3"
  },
  "language_info": {
   "codemirror_mode": {
    "name": "ipython",
    "version": 3
   },
   "file_extension": ".py",
   "mimetype": "text/x-python",
   "name": "python",
   "nbconvert_exporter": "python",
   "pygments_lexer": "ipython3",
   "version": "3.6.8"
  }
 },
 "nbformat": 4,
 "nbformat_minor": 2
}
