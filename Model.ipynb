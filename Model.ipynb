{
 "cells": [
  {
   "cell_type": "markdown",
   "metadata": {},
   "source": [
    "### Imports"
   ]
  },
  {
   "cell_type": "code",
   "execution_count": 1,
   "metadata": {},
   "outputs": [],
   "source": [
    "import pickle as pkl\n",
    "import pandas as pd\n",
    "import pandas\n",
    "import numpy as np\n",
    "from nltk.tokenize import sent_tokenize, word_tokenize \n",
    "import gensim \n",
    "from gensim.models import Word2Vec \n",
    "import rouge\n",
    "from nltk.tokenize.treebank import TreebankWordDetokenizer\n",
    "\n",
    "import tensorflow as tf\n",
    "from tensorflow.keras.layers import Dense, LSTM, Activation, Bidirectional, Dropout, Input, concatenate, Reshape, TimeDistributed, Flatten\n",
    "from tensorflow.keras.models import Sequential\n",
    "from tensorflow.keras import Model\n",
    "import tensorflow.keras.backend as K\n",
    "\n",
    "import matplotlib.pyplot as plt"
   ]
  },
  {
   "cell_type": "markdown",
   "metadata": {},
   "source": [
    "### Loading Data"
   ]
  },
  {
   "cell_type": "code",
   "execution_count": 2,
   "metadata": {},
   "outputs": [
    {
     "data": {
      "text/html": [
       "<div>\n",
       "<style scoped>\n",
       "    .dataframe tbody tr th:only-of-type {\n",
       "        vertical-align: middle;\n",
       "    }\n",
       "\n",
       "    .dataframe tbody tr th {\n",
       "        vertical-align: top;\n",
       "    }\n",
       "\n",
       "    .dataframe thead th {\n",
       "        text-align: right;\n",
       "    }\n",
       "</style>\n",
       "<table border=\"1\" class=\"dataframe\">\n",
       "  <thead>\n",
       "    <tr style=\"text-align: right;\">\n",
       "      <th></th>\n",
       "      <th>Unnamed: 0</th>\n",
       "      <th>publication</th>\n",
       "      <th>content</th>\n",
       "    </tr>\n",
       "  </thead>\n",
       "  <tbody>\n",
       "    <tr>\n",
       "      <th>0</th>\n",
       "      <td>0</td>\n",
       "      <td>New York Times</td>\n",
       "      <td>[washington, —, congressional, republicans, ha...</td>\n",
       "    </tr>\n",
       "    <tr>\n",
       "      <th>1</th>\n",
       "      <td>1</td>\n",
       "      <td>New York Times</td>\n",
       "      <td>[after, the, bullet, shells, get, the, south, ...</td>\n",
       "    </tr>\n",
       "    <tr>\n",
       "      <th>2</th>\n",
       "      <td>2</td>\n",
       "      <td>New York Times</td>\n",
       "      <td>[when, walt, disney, ’, s, but, what, they, di...</td>\n",
       "    </tr>\n",
       "    <tr>\n",
       "      <th>3</th>\n",
       "      <td>3</td>\n",
       "      <td>New York Times</td>\n",
       "      <td>[death, may, be, the, great, equalizer, ,, but...</td>\n",
       "    </tr>\n",
       "    <tr>\n",
       "      <th>4</th>\n",
       "      <td>4</td>\n",
       "      <td>New York Times</td>\n",
       "      <td>[seoul, ,, south, korea, —, although, north, k...</td>\n",
       "    </tr>\n",
       "    <tr>\n",
       "      <th>...</th>\n",
       "      <td>...</td>\n",
       "      <td>...</td>\n",
       "      <td>...</td>\n",
       "    </tr>\n",
       "    <tr>\n",
       "      <th>47220</th>\n",
       "      <td>47220</td>\n",
       "      <td>BBC_tech</td>\n",
       "      <td>[bt, is, introducing, two, initiatives, from, ...</td>\n",
       "    </tr>\n",
       "    <tr>\n",
       "      <th>47221</th>\n",
       "      <td>47221</td>\n",
       "      <td>BBC_tech</td>\n",
       "      <td>[computer, users, across, the, world, more, th...</td>\n",
       "    </tr>\n",
       "    <tr>\n",
       "      <th>47222</th>\n",
       "      <td>47222</td>\n",
       "      <td>BBC_tech</td>\n",
       "      <td>[a, new, european, directive, could, if, it, g...</td>\n",
       "    </tr>\n",
       "    <tr>\n",
       "      <th>47223</th>\n",
       "      <td>47223</td>\n",
       "      <td>BBC_tech</td>\n",
       "      <td>[the, man, making, sure, us, amit, yoran, was,...</td>\n",
       "    </tr>\n",
       "    <tr>\n",
       "      <th>47224</th>\n",
       "      <td>47224</td>\n",
       "      <td>BBC_tech</td>\n",
       "      <td>[online, role, playing, games, are, time-consu...</td>\n",
       "    </tr>\n",
       "  </tbody>\n",
       "</table>\n",
       "<p>47225 rows × 3 columns</p>\n",
       "</div>"
      ],
      "text/plain": [
       "       Unnamed: 0     publication  \\\n",
       "0               0  New York Times   \n",
       "1               1  New York Times   \n",
       "2               2  New York Times   \n",
       "3               3  New York Times   \n",
       "4               4  New York Times   \n",
       "...           ...             ...   \n",
       "47220       47220        BBC_tech   \n",
       "47221       47221        BBC_tech   \n",
       "47222       47222        BBC_tech   \n",
       "47223       47223        BBC_tech   \n",
       "47224       47224        BBC_tech   \n",
       "\n",
       "                                                 content  \n",
       "0      [washington, —, congressional, republicans, ha...  \n",
       "1      [after, the, bullet, shells, get, the, south, ...  \n",
       "2      [when, walt, disney, ’, s, but, what, they, di...  \n",
       "3      [death, may, be, the, great, equalizer, ,, but...  \n",
       "4      [seoul, ,, south, korea, —, although, north, k...  \n",
       "...                                                  ...  \n",
       "47220  [bt, is, introducing, two, initiatives, from, ...  \n",
       "47221  [computer, users, across, the, world, more, th...  \n",
       "47222  [a, new, european, directive, could, if, it, g...  \n",
       "47223  [the, man, making, sure, us, amit, yoran, was,...  \n",
       "47224  [online, role, playing, games, are, time-consu...  \n",
       "\n",
       "[47225 rows x 3 columns]"
      ]
     },
     "execution_count": 2,
     "metadata": {},
     "output_type": "execute_result"
    }
   ],
   "source": [
    "data = pd.read_pickle('data/tokenized.pkl')\n",
    "eval_df = pd.read_pickle('data/evaluation.pkl')\n",
    "data"
   ]
  },
  {
   "cell_type": "code",
   "execution_count": 3,
   "metadata": {},
   "outputs": [],
   "source": [
    "all_sentences = list(data['content'])\n",
    "all_sentences.extend(list(eval_df['content']))"
   ]
  },
  {
   "cell_type": "markdown",
   "metadata": {},
   "source": [
    "### Getting Relevant publications"
   ]
  },
  {
   "cell_type": "code",
   "execution_count": 4,
   "metadata": {},
   "outputs": [],
   "source": [
    "selected_publications = [\n",
    " 'Breitbart',\n",
    " 'CNN',\n",
    " 'New York Times',\n",
    " 'NPR',\n",
    " 'Fox News',\n",
    " 'Reuters']\n",
    "# selected_publications = [\n",
    "#  'Breitbart',\n",
    "#  'CNN',\n",
    "#  'New York Times']"
   ]
  },
  {
   "cell_type": "code",
   "execution_count": 5,
   "metadata": {},
   "outputs": [
    {
     "data": {
      "text/plain": [
       "['Fox News',\n",
       " 'Vox',\n",
       " 'New York Post',\n",
       " 'Washington Post',\n",
       " 'Atlantic',\n",
       " 'CNN',\n",
       " 'Reuters',\n",
       " 'BBC_business',\n",
       " 'NPR',\n",
       " 'BBC_entertainment',\n",
       " 'BBC_sport',\n",
       " 'New York Times',\n",
       " 'Breitbart',\n",
       " 'National Review',\n",
       " 'Guardian',\n",
       " 'Talking Points Memo',\n",
       " 'Buzzfeed News',\n",
       " 'BBC_politics',\n",
       " 'Business Insider',\n",
       " 'BBC_tech']"
      ]
     },
     "execution_count": 5,
     "metadata": {},
     "output_type": "execute_result"
    }
   ],
   "source": [
    "all_publications = list(set(data['publication']))\n",
    "all_publications"
   ]
  },
  {
   "cell_type": "code",
   "execution_count": 6,
   "metadata": {},
   "outputs": [
    {
     "data": {
      "text/plain": [
       "['Breitbart', 'CNN', 'New York Times', 'NPR', 'Fox News', 'Reuters']"
      ]
     },
     "execution_count": 6,
     "metadata": {},
     "output_type": "execute_result"
    }
   ],
   "source": [
    "# Take only the contents from publications with >= 3000 samples.\n",
    "publications = [pub for pub in selected_publications if pub in all_publications and len(data[data['publication'] == pub]) >= 3000]\n",
    "publications"
   ]
  },
  {
   "cell_type": "code",
   "execution_count": 7,
   "metadata": {},
   "outputs": [],
   "source": [
    "contents = []\n",
    "for pub in publications:\n",
    "    contents.append(np.asarray(data[data['publication'] == pub]['content']))"
   ]
  },
  {
   "cell_type": "markdown",
   "metadata": {},
   "source": [
    "### Padding with special Character"
   ]
  },
  {
   "cell_type": "code",
   "execution_count": 8,
   "metadata": {},
   "outputs": [
    {
     "data": {
      "text/plain": [
       "50"
      ]
     },
     "execution_count": 8,
     "metadata": {},
     "output_type": "execute_result"
    }
   ],
   "source": [
    "max_seq_length = max([len(seq) for content in contents for seq in content])\n",
    "max_seq_length"
   ]
  },
  {
   "cell_type": "code",
   "execution_count": 9,
   "metadata": {},
   "outputs": [],
   "source": [
    "end_token = '~?@_'"
   ]
  },
  {
   "cell_type": "code",
   "execution_count": 10,
   "metadata": {},
   "outputs": [],
   "source": [
    "for content in contents:\n",
    "    for seq in content:\n",
    "        seq.extend([end_token] * (max_seq_length - len(seq)))"
   ]
  },
  {
   "cell_type": "code",
   "execution_count": 11,
   "metadata": {},
   "outputs": [
    {
     "data": {
      "text/plain": [
       "50"
      ]
     },
     "execution_count": 11,
     "metadata": {},
     "output_type": "execute_result"
    }
   ],
   "source": [
    "max_seq_length = max([len(seq) for content in contents for seq in content])\n",
    "max_seq_length"
   ]
  },
  {
   "cell_type": "markdown",
   "metadata": {},
   "source": [
    "### Vectorize Words"
   ]
  },
  {
   "cell_type": "code",
   "execution_count": 12,
   "metadata": {},
   "outputs": [],
   "source": [
    "word_dim = 100"
   ]
  },
  {
   "cell_type": "code",
   "execution_count": 13,
   "metadata": {},
   "outputs": [],
   "source": [
    "\n",
    "word2vec = gensim.models.Word2Vec(all_sentences, min_count = 1,  \n",
    "                              size = word_dim, window = 5) "
   ]
  },
  {
   "cell_type": "code",
   "execution_count": 14,
   "metadata": {},
   "outputs": [
    {
     "name": "stdout",
     "output_type": "stream",
     "text": [
      "Cosine similarity between 'congress' and 'senate' - CBOW :  0.7775129\n",
      "Cosine similarity between 'congress' and 'house' - CBOW :  0.6631411\n"
     ]
    }
   ],
   "source": [
    "print(\"Cosine similarity between 'congress' \" + \n",
    "               \"and 'senate' - CBOW : \", \n",
    "    word2vec.wv.similarity('congress', 'senate')) \n",
    "      \n",
    "print(\"Cosine similarity between 'congress' \" +\n",
    "                 \"and 'house' - CBOW : \", \n",
    "    word2vec.wv.similarity('congress', 'house')) "
   ]
  },
  {
   "cell_type": "code",
   "execution_count": 15,
   "metadata": {},
   "outputs": [
    {
     "data": {
      "text/plain": [
       "array([-1.1962988 , -0.46952644, -0.2092552 , -0.49508286, -0.5939399 ,\n",
       "       -0.47643507,  0.51894176,  0.66921806, -0.37765333,  0.97603136,\n",
       "       -0.25187528, -0.54965436,  0.04709318,  0.04881685,  1.5215728 ,\n",
       "       -0.5585489 , -0.7406289 , -0.31593478,  0.01350005, -0.73364276,\n",
       "        0.10632871,  1.1706322 ,  1.117302  , -1.0306296 ,  0.05779231,\n",
       "       -0.955665  , -0.6990506 , -0.17872794, -0.01317215,  0.6055097 ,\n",
       "       -1.050981  ,  0.16859053, -1.0042888 ,  0.5624408 , -0.00464836,\n",
       "       -0.31103954,  0.42768326,  0.28345698,  0.0049701 ,  0.81556165,\n",
       "       -0.0362828 , -0.3892735 ,  0.32076988, -0.5817319 ,  0.04881718,\n",
       "        1.3403689 ,  1.0271187 , -0.4893828 , -0.48177782,  0.21739082,\n",
       "       -1.606795  ,  0.03486909, -0.48941553,  0.05397522, -0.4742551 ,\n",
       "        0.9308844 , -1.7061324 ,  0.28243405,  0.03195487,  0.8863937 ,\n",
       "       -1.13895   , -0.46411234,  0.01107024,  0.631226  , -0.38472888,\n",
       "       -0.2697906 , -1.0853992 ,  0.3250551 , -0.51598775,  0.3497057 ,\n",
       "       -0.09005967,  0.2767042 ,  0.41003844,  0.5547797 , -0.6166135 ,\n",
       "       -0.48527563, -0.4886485 ,  0.1835719 , -0.2447831 , -0.30209586,\n",
       "        0.17634949,  0.2867722 ,  1.0432223 ,  0.29066253, -0.04529644,\n",
       "        0.2779089 , -0.27315497, -0.43463266,  0.39377138, -0.2667202 ,\n",
       "        0.6825951 ,  0.04995942,  0.5662912 ,  0.1656493 , -0.06179428,\n",
       "        0.84968144,  1.037607  ,  0.12405095,  0.21325698, -1.0446374 ],\n",
       "      dtype=float32)"
      ]
     },
     "execution_count": 15,
     "metadata": {},
     "output_type": "execute_result"
    }
   ],
   "source": [
    "word2vec.wv['congressional']"
   ]
  },
  {
   "cell_type": "code",
   "execution_count": 16,
   "metadata": {},
   "outputs": [
    {
     "data": {
      "text/plain": [
       "[('congressional', 1.0),\n",
       " ('senate', 0.8732990026473999),\n",
       " ('judiciary', 0.8281186819076538),\n",
       " ('lawmakers', 0.8277795910835266),\n",
       " ('gop', 0.823604941368103),\n",
       " ('budget', 0.814470648765564),\n",
       " ('committee', 0.8116059303283691),\n",
       " ('democratic', 0.7952852845191956),\n",
       " ('republican', 0.7924261093139648),\n",
       " ('conservative', 0.7895176410675049)]"
      ]
     },
     "execution_count": 16,
     "metadata": {},
     "output_type": "execute_result"
    }
   ],
   "source": [
    "word2vec.wv.similar_by_vector(word2vec.wv['congressional'])"
   ]
  },
  {
   "cell_type": "code",
   "execution_count": null,
   "metadata": {},
   "outputs": [],
   "source": []
  },
  {
   "cell_type": "code",
   "execution_count": 17,
   "metadata": {},
   "outputs": [],
   "source": [
    "contents = np.asarray(contents)"
   ]
  },
  {
   "cell_type": "code",
   "execution_count": 18,
   "metadata": {},
   "outputs": [],
   "source": [
    "samples = np.zeros(shape=(contents.shape[0], contents.shape[1], max_seq_length, word_dim))"
   ]
  },
  {
   "cell_type": "code",
   "execution_count": 19,
   "metadata": {},
   "outputs": [],
   "source": [
    "for i in range(contents.shape[0]):\n",
    "    for j in range(contents.shape[1]):\n",
    "        for k in range(max_seq_length):\n",
    "            samples[i, j, k, :] = word2vec.wv[contents[i, j][k]]"
   ]
  },
  {
   "cell_type": "markdown",
   "metadata": {},
   "source": [
    "## Funciton Definitions"
   ]
  },
  {
   "cell_type": "code",
   "execution_count": 20,
   "metadata": {},
   "outputs": [],
   "source": [
    "def squareError(xTrue, xPred):\n",
    "    return K.square(xTrue - xPred)\n"
   ]
  },
  {
   "cell_type": "code",
   "execution_count": 21,
   "metadata": {},
   "outputs": [],
   "source": [
    "def reconstructionLoss(sample, encoder, decoder, f_w, weight): # (L_1 from the paper)\n",
    "    return K.mean(squareError(sample, decoder(encoder(sample)))) + K.mean(weight*K.log(tf.clip_by_value(f_w(encoder(sample)),1e-10,1.0)))\n"
   ]
  },
  {
   "cell_type": "code",
   "execution_count": 22,
   "metadata": {},
   "outputs": [],
   "source": [
    "def divergenceLoss(f_w, encoder, sample, z_j, n_j): # Mean of log f_w(E_theta_i(x_j)) + log (1-f_w(z_j, n_j)) from the paper (L_2).\n",
    "    return K.mean(K.log(tf.clip_by_value(f_w(encoder(sample)),1e-10,1.0))) + K.mean(K.log(tf.clip_by_value(1 - f_w([z_j, n_j]),1e-10,1.0)))\n"
   ]
  },
  {
   "cell_type": "code",
   "execution_count": 23,
   "metadata": {},
   "outputs": [],
   "source": [
    "def sample(data, domain, num_samples):\n",
    "    N = data.shape[1]\n",
    "    return tf.convert_to_tensor(data[domain, np.random.choice(N, num_samples, replace=True),:,:], dtype=tf.float32)\n"
   ]
  },
  {
   "cell_type": "code",
   "execution_count": 24,
   "metadata": {},
   "outputs": [],
   "source": [
    "# Currently just doing a restriction to the last z variables, might want to do a matrix multiplication?\n",
    "# pi_Z from the paper. projects a latent distribution in (z, n) to z\n",
    "def projectZ(encoded):\n",
    "    return encoded[0] # take zs."
   ]
  },
  {
   "cell_type": "code",
   "execution_count": 25,
   "metadata": {},
   "outputs": [],
   "source": [
    "def projectN(encoded):\n",
    "    return encoded[1] # taek Ns."
   ]
  },
  {
   "cell_type": "code",
   "execution_count": 26,
   "metadata": {},
   "outputs": [],
   "source": [
    "# takes in two inputs, n and z, and outputs samples.\n",
    "def createDecoder(z_dims, n_dims, time_steps, output_dims, lstm_dims):\n",
    "    # TODO MAYBE: Add in more regularization or different than dropout?\n",
    "\n",
    "    z_inputs = Input(shape=(z_dims,))\n",
    "    n_inputs = Input(shape=(n_dims,))\n",
    "    inputs = concatenate([z_inputs, n_inputs])\n",
    "    dense = Dropout(0.2)(inputs)\n",
    "#     # 150 is arbitrary rn...\n",
    "#     dense = Dense(150)(inputs)\n",
    "    dense = Dense(time_steps*output_dims)(dense)\n",
    "    dense = Dropout(0.5)(dense)\n",
    "    reshape = Reshape((time_steps, output_dims))(dense)\n",
    "    # TODO Reshape to enforce time_steps?\n",
    "    bilstm = Bidirectional(LSTM(lstm_dims, activation='tanh', return_sequences=True))(reshape)\n",
    "    bilstm = Dropout(0.5)(bilstm)\n",
    "    bilstm = LSTM(lstm_dims, activation='tanh', return_sequences=True)(bilstm)\n",
    "#     bilstm = Bidirectional(LSTM(lstm_dims, activation='tanh', return_sequences=True))(bilstm)\n",
    "#     bilstm = Dropout(0.5)(bilstm)\n",
    "    \n",
    "    outputs = TimeDistributed(Dense(output_dims, activation='linear'))(bilstm)\n",
    "#     outputs = TimeDistributed(Dense(output_dims, activation='linear'))(bilstm)\n",
    "    \n",
    "    model = Model(inputs=[z_inputs, n_inputs], outputs=outputs)\n",
    "    \n",
    "    return model"
   ]
  },
  {
   "cell_type": "code",
   "execution_count": 27,
   "metadata": {},
   "outputs": [],
   "source": [
    "def createEncoder(time_steps, input_num, z_dims, n_dims, lstm_dims):\n",
    "    # TODO MAYBE: Add in more regularization or different than dropout?\n",
    "    inputs = Input(shape=(time_steps, input_num,))\n",
    "    bilstm = TimeDistributed(Dropout(0.2))(inputs)\n",
    "#     bilstm = Bidirectional(LSTM(lstm_dims, activation='tanh', return_sequences=True))(bilstm)\n",
    "#     bilstm = Dropout(0.5)(bilstm)\n",
    "    dense = Bidirectional(LSTM(lstm_dims, activation='tanh', return_sequences=False))(bilstm)\n",
    "    dense = Dropout(0.5)(dense)\n",
    "    z_output = Dense(z_dims, activation='linear')(dense)\n",
    "    n_output = Dense(n_dims, activation='linear')(dense)\n",
    "    \n",
    "    model = Model(inputs=inputs, outputs=[z_output, n_output])\n",
    "    \n",
    "    return model"
   ]
  },
  {
   "cell_type": "code",
   "execution_count": 28,
   "metadata": {},
   "outputs": [],
   "source": [
    "def createDiscriminator(z_dims, n_dims):\n",
    "    z_inputs = Input(shape=(z_dims,))\n",
    "    n_inputs = Input(shape=(n_dims,))\n",
    "    inputs = concatenate([z_inputs, n_inputs])\n",
    "    \n",
    "    dense = Dropout(0.2)(inputs)\n",
    "    # 150, 100 is arbitrary rn...\n",
    "    dense = Dense(150, activation='relu')(dense)\n",
    "    dense = Dropout(0.5)(dense)\n",
    "    dense = Dense(100, activation='relu')(dense)\n",
    "    dense = Dropout(0.5)(dense)\n",
    "    output = Dense(1, activation='sigmoid')(dense)\n",
    "    \n",
    "    model = Model(inputs=[z_inputs, n_inputs], outputs=output)\n",
    "    \n",
    "    return model"
   ]
  },
  {
   "cell_type": "code",
   "execution_count": 29,
   "metadata": {},
   "outputs": [],
   "source": [
    "def plotLosses(domain, recLosses, divLosses):\n",
    "    \n",
    "    plt.figure(figsize=(16, 6))\n",
    "    plt.rcParams.update({'font.size': 22})\n",
    "    plt.title('Loss for Training Domain {} Autoencoder'.format(domain))\n",
    "    plt.xlabel('Epoch')\n",
    "    plt.ylabel('Loss')\n",
    "    plt.plot(range(len(recLosses)), recLosses, range(len(divLosses)), divLosses)\n",
    "    plt.legend(['Reconstruction', 'Divergence'])\n",
    "    plt.show()"
   ]
  },
  {
   "cell_type": "markdown",
   "metadata": {},
   "source": [
    "### When $P_Z$ is known... "
   ]
  },
  {
   "cell_type": "code",
   "execution_count": 30,
   "metadata": {},
   "outputs": [],
   "source": [
    "\n",
    "# k is num of domains.\n",
    "# encoders is a list of encoders.\n",
    "# decoders is list of decoders.\n",
    "# samples is a K x N x Timesteps x dim, array of samples, where the 0th index is the domain,\n",
    "# the 1th index is the # of the sample in that domain, 2th index is the # timesteps per sequence, 3th index is the #\n",
    "# of dimensions at each timestep\n",
    "# original_domains is a list of the original domains P_z was derived from.\n",
    "\n",
    "# Currently assuming P_Z is known. Must approximate P_Z first.\n",
    "def trainAutoencodersWithPz(samples, encoders, decoders, discriminator, num_samples, original_domains, epochs=10, weight=1.0, lr = 3e-3):\n",
    "    N = samples.shape[1]\n",
    "    k = samples.shape[0]\n",
    "        \n",
    "    \n",
    "    for i in range(k):\n",
    "        if i not in original_domains:\n",
    "            enc_optimizer = tf.keras.optimizers.Adam(lr)\n",
    "            dec_optimizer = tf.keras.optimizers.Adam(lr)\n",
    "            disc_optimizer = tf.keras.optimizers.Adam(lr)\n",
    "            original_domain = np.random.choice(original_domains)\n",
    "            encoder = encoders[i]\n",
    "            decoder = decoders[i]\n",
    "            original_encoder = encoders[original_domain]\n",
    "            recLosses = []\n",
    "            divLosses = []\n",
    "            epoch = 0\n",
    "            while(epoch < epochs): # could also do until some convergence criteria.\n",
    "                p_Xi_samples = sample(samples, i, num_samples)\n",
    "                p_Z_samples = projectZ(original_encoder(sample(samples, original_domain, num_samples)))\n",
    "                p_Ni_samples = projectN(encoder(sample(samples, i, num_samples)))\n",
    "\n",
    "                with tf.GradientTape() as enc_tape, tf.GradientTape() as dec_tape, tf.GradientTape() as disc_tape:\n",
    "\n",
    "                    reconstruction_loss = reconstructionLoss(p_Xi_samples, encoder, decoder, discriminator, weight)\n",
    "\n",
    "                    # negative b/c gradient ascent.\n",
    "                    divergence_loss = -1 * divergenceLoss(discriminator, encoder, p_Xi_samples, p_Z_samples, p_Ni_samples)\n",
    "\n",
    "                gradients_of_encoder = enc_tape.gradient(reconstruction_loss, encoder.trainable_variables)\n",
    "                gradients_of_decoder = dec_tape.gradient(reconstruction_loss, decoder.trainable_variables)\n",
    "                gradients_of_discriminator = disc_tape.gradient(divergence_loss, discriminator.trainable_variables)\n",
    "                \n",
    "                enc_optimizer.apply_gradients(zip(gradients_of_encoder, encoder.trainable_variables))\n",
    "                dec_optimizer.apply_gradients(zip(gradients_of_decoder, decoder.trainable_variables))\n",
    "                disc_optimizer.apply_gradients(zip(gradients_of_discriminator, discriminator.trainable_variables))\n",
    "                \n",
    "                recLosses.append(reconstruction_loss)\n",
    "                divLosses.append(divergence_loss)\n",
    "                print('Domain {}, Epoch {}:\\n\\tReconstruction Loss: {}\\n\\tDivergence Loss: {}'.format(i, epoch+1, reconstruction_loss, divergence_loss))\n",
    "                \n",
    "                epoch+=1\n",
    "            plotLosses(i, recLosses, divLosses)\n",
    "            "
   ]
  },
  {
   "cell_type": "markdown",
   "metadata": {},
   "source": [
    "### When $P_Z$ is unknown...\n",
    "\"A straight-forward approach for learning the latent distribution PZ is to train a regularized autoencoder on data from a\n",
    "single representative domain. However, such a representation could potentially capture variability that is specific to\n",
    "that one domain. To learn a more invariant latent representation, we propose the following extension of our autoencoder\n",
    "framework. The basic idea is to alternate between training\n",
    "multiple autoencoders until they agree on a latent representation that is effective for their respective domains. This is\n",
    "particularly relevant for applications to biology; for example, often one is interested in learning a latent representation\n",
    "that integrates all of the data modalities.\""
   ]
  },
  {
   "cell_type": "code",
   "execution_count": 31,
   "metadata": {},
   "outputs": [],
   "source": [
    "\n",
    "# k is num of domains.\n",
    "# encoders is a list of encoders.\n",
    "# decoders is list of decoders.\n",
    "# samples is a K x N x Timesteps x dim, array of samples, where the 0th index is the domain,\n",
    "# the 1th index is the # of the sample in that domain, 2th index is the # timesteps per sequence, 3th index is the #\n",
    "# of dimensions at each timestep\n",
    "# domains is a list of the domains we are currently training over.\n",
    "\n",
    "def trainAutoencodersInitial(samples, encoders, decoders, discriminator, num_samples, domains, epochs=10, weight=1.0, lr = 3e-3):\n",
    "    N = samples.shape[1]\n",
    "    k = samples.shape[0]\n",
    "    \n",
    "    for i in domains:\n",
    "        encoder = encoders[i]\n",
    "        decoder = decoders[i]\n",
    "        enc_optimizer = tf.keras.optimizers.Adam(lr)\n",
    "        dec_optimizer = tf.keras.optimizers.Adam(lr)\n",
    "        disc_optimizer = tf.keras.optimizers.Adam(lr)\n",
    "        for j in domains:\n",
    "            if i != j:\n",
    "                j_encoder = encoders[j]\n",
    "                recLosses = []\n",
    "                divLosses = []\n",
    "                epoch = 0\n",
    "                while(epoch < epochs): # could also do until some convergence criteria.\n",
    "                    p_Xi_samples = sample(samples, i, num_samples)\n",
    "                    p_Zj_samples = projectZ(j_encoder(sample(samples, j, num_samples)))\n",
    "                    p_Ni_samples = projectN(encoder(sample(samples, i, num_samples)))\n",
    "\n",
    "                    with tf.GradientTape() as enc_tape, tf.GradientTape() as dec_tape, tf.GradientTape() as disc_tape:\n",
    "\n",
    "                        reconstruction_loss = reconstructionLoss(p_Xi_samples, encoder, decoder, discriminator, weight)\n",
    "                        #print(p_Xi_samples)\n",
    "\n",
    "                        # negative b/c gradient ascent.\n",
    "                        divergence_loss = -1 * divergenceLoss(discriminator, encoder, p_Xi_samples, p_Zj_samples, p_Ni_samples)\n",
    "                        \n",
    "                    gradients_of_encoder = enc_tape.gradient(reconstruction_loss, encoder.trainable_variables)\n",
    "                    gradients_of_decoder = dec_tape.gradient(reconstruction_loss, decoder.trainable_variables)\n",
    "                    gradients_of_discriminator = disc_tape.gradient(divergence_loss, discriminator.trainable_variables)\n",
    "            \n",
    "\n",
    "                    enc_optimizer.apply_gradients(zip(gradients_of_encoder, encoder.trainable_variables))\n",
    "                    dec_optimizer.apply_gradients(zip(gradients_of_decoder, decoder.trainable_variables))\n",
    "                    disc_optimizer.apply_gradients(zip(gradients_of_discriminator, discriminator.trainable_variables))\n",
    "                \n",
    "                    recLosses.append(reconstruction_loss)\n",
    "                    divLosses.append(divergence_loss)\n",
    "                    \n",
    "                    print('Domain {}, Epoch {}:\\n\\tReconstruction Loss: {}\\n\\tDivergence Loss: {}'.format(i, epoch+1, reconstruction_loss, divergence_loss))\n",
    "                    epoch+=1\n",
    "                plotLosses(i, recLosses, divLosses)\n",
    "            "
   ]
  },
  {
   "cell_type": "code",
   "execution_count": 32,
   "metadata": {},
   "outputs": [],
   "source": [
    "# samples is a K x N x Timesteps x dim, array of samples, where the 0th index is the domain,\n",
    "# the 1th index is the # of the sample in that domain, 2th index is the # timesteps per sequence, 3th index is the #\n",
    "# of dimensions at each timestep\n",
    "\n",
    "def initModel(samples, z_dims, n_dims, lstm_dims):\n",
    "    \n",
    "    k = samples.shape[0]\n",
    "    N = samples.shape[1]\n",
    "    time_steps = samples.shape[2]\n",
    "    dim = samples.shape[3]\n",
    "    \n",
    "    \n",
    "    \n",
    "    discriminator = createDiscriminator(z_dims, n_dims)\n",
    "    \n",
    "    encoders = []\n",
    "    decoders = []\n",
    "    \n",
    "    for i in range(k):\n",
    "        encoders.append(createEncoder(time_steps, dim, z_dims, n_dims, lstm_dims))\n",
    "        decoders.append(createDecoder(z_dims, n_dims, time_steps, dim, lstm_dims))\n",
    "    \n",
    "    return encoders, decoders, discriminator"
   ]
  },
  {
   "cell_type": "code",
   "execution_count": 33,
   "metadata": {},
   "outputs": [],
   "source": [
    "def translate(start_sequences, samples, encoders, decoders, start_domain, end_domain):\n",
    "    N = samples.shape[1]\n",
    "    print(start_sequences.shape)\n",
    "    num_samples = start_sequences.shape[0]\n",
    "    \n",
    "    start_encoder = encoders[start_domain]\n",
    "    end_encoder = encoders[end_domain]\n",
    "    end_decoder = decoders[end_domain]\n",
    "    \n",
    "    z = projectZ(start_encoder(start_sequences))\n",
    "    n = projectN(end_encoder(sample(samples, end_domain, num_samples)))\n",
    "    \n",
    "    end_sequences = end_decoder([z, n])\n",
    "    return end_sequences\n",
    "    "
   ]
  },
  {
   "cell_type": "code",
   "execution_count": 34,
   "metadata": {},
   "outputs": [],
   "source": [
    "def vecSeqToSentence(sequence):\n",
    "    sequence = K.eval(sequence)\n",
    "    sentence = []\n",
    "    for i in range(sequence.shape[0]):\n",
    "        word = sequence[i,:]\n",
    "        #print(word)\n",
    "        #print(word2vec.wv.similar_by_vector(word))\n",
    "        sentence.append(word2vec.wv.similar_by_vector(word)[0][0])\n",
    "    return sentence\n",
    "    print(sentence)"
   ]
  },
  {
   "cell_type": "code",
   "execution_count": 35,
   "metadata": {},
   "outputs": [],
   "source": [
    "n_dims = 100 # len(n)\n",
    "z_dims = 100 # len(Z)\n",
    "\n",
    "lstm_dims = 64\n",
    "\n",
    "num_epochs = 25\n",
    "num_samples = 128\n",
    "\n",
    "weight = 1\n",
    "\n",
    "lr = 3e-3\n",
    "\n",
    "original_domains = [0, 1]\n",
    "# Marcus: Fox & Breitbart [4, 0]\n",
    "# LK: Reuters & NPR [5, 3]\n",
    "# Sophie: CNN & NYT [1, 2]\n",
    "# Connor: CNN & Fox News [1, 4]\n",
    "\n",
    "\n",
    "# selected_publications = [\n",
    "#  'Breitbart',\n",
    "#  'CNN',\n",
    "#  'New York Times',\n",
    "#  'NPR',\n",
    "#  'Fox News',\n",
    "#  'Reuters']\n"
   ]
  },
  {
   "cell_type": "code",
   "execution_count": 36,
   "metadata": {},
   "outputs": [],
   "source": [
    "encoders, decoders, discriminator = initModel(samples, z_dims, n_dims, lstm_dims)"
   ]
  },
  {
   "cell_type": "markdown",
   "metadata": {},
   "source": [
    "### Original First Sentence from 0"
   ]
  },
  {
   "cell_type": "code",
   "execution_count": 37,
   "metadata": {},
   "outputs": [
    {
     "data": {
      "text/plain": [
       "'on tuesday ’ s broadcast ” zeleny said , “ and she ’ s having a difficult time in federal prison , no question . ~?@_ ~?@_ ~?@_ ~?@_ ~?@_ ~?@_ ~?@_ ~?@_ ~?@_ ~?@_ ~?@_ ~?@_ ~?@_ ~?@_ ~?@_ ~?@_ ~?@_ ~?@_ ~?@_ ~?@_ ~?@_ ~?@_ ~?@_ ~?@_ ~?@_'"
      ]
     },
     "execution_count": 37,
     "metadata": {},
     "output_type": "execute_result"
    }
   ],
   "source": [
    "' '.join(contents[0, 0])"
   ]
  },
  {
   "cell_type": "code",
   "execution_count": 38,
   "metadata": {},
   "outputs": [
    {
     "name": "stdout",
     "output_type": "stream",
     "text": [
      "(1, 50, 100)\n"
     ]
    }
   ],
   "source": [
    "seq = tf.convert_to_tensor(np.asarray([samples[0, 0, :, :]]), dtype=tf.float32)\n",
    "translation = translate(seq, samples, encoders, decoders, original_domains[0], original_domains[1])"
   ]
  },
  {
   "cell_type": "markdown",
   "metadata": {},
   "source": [
    "### Original First Sentence from 0 translated to 1 before Training (Random)"
   ]
  },
  {
   "cell_type": "code",
   "execution_count": 39,
   "metadata": {},
   "outputs": [
    {
     "data": {
      "text/plain": [
       "['needham',\n",
       " 'aghast',\n",
       " 'nyp',\n",
       " 'difference.',\n",
       " 'mazur',\n",
       " 'mazur',\n",
       " 'domes',\n",
       " 'domes',\n",
       " 'irreparable',\n",
       " 'denouement',\n",
       " 'denouement',\n",
       " 'subjugation',\n",
       " 'subjugation',\n",
       " 'revealed.',\n",
       " 'nanticoke',\n",
       " 'nanticoke',\n",
       " 'lapine',\n",
       " 'lapine',\n",
       " 'lapine',\n",
       " 'boubaker',\n",
       " 'boubaker',\n",
       " 'boubaker',\n",
       " 'boubaker',\n",
       " 'tracie',\n",
       " 'tracie',\n",
       " 'golan',\n",
       " 'indystar',\n",
       " 'gripe',\n",
       " 'avalon',\n",
       " 'avalon',\n",
       " 'avalon',\n",
       " 'bentonville',\n",
       " 'opb',\n",
       " 'opb',\n",
       " 'mouths',\n",
       " 'hallock',\n",
       " 'cruickshank',\n",
       " 'cruickshank',\n",
       " 'repetitive',\n",
       " 'cruickshank',\n",
       " 'shakedowns',\n",
       " 'expat',\n",
       " 'nautilus',\n",
       " 'nautilus',\n",
       " 'nautilus',\n",
       " 'nautilus',\n",
       " 'nautilus',\n",
       " 'nautilus',\n",
       " 'finley',\n",
       " 'bulldog']"
      ]
     },
     "execution_count": 39,
     "metadata": {},
     "output_type": "execute_result"
    }
   ],
   "source": [
    "\n",
    "vecSeqToSentence(translation[0,:,:])\n"
   ]
  },
  {
   "cell_type": "code",
   "execution_count": 40,
   "metadata": {},
   "outputs": [
    {
     "name": "stdout",
     "output_type": "stream",
     "text": [
      "Domain 0, Epoch 1:\n",
      "\tReconstruction Loss: 0.23489445447921753\n",
      "\tDivergence Loss: 1.4144666194915771\n",
      "Domain 0, Epoch 2:\n",
      "\tReconstruction Loss: -0.0847773551940918\n",
      "\tDivergence Loss: 1.3222932815551758\n",
      "Domain 0, Epoch 3:\n",
      "\tReconstruction Loss: -0.20793163776397705\n",
      "\tDivergence Loss: 1.2671427726745605\n",
      "Domain 0, Epoch 4:\n",
      "\tReconstruction Loss: -0.2152145504951477\n",
      "\tDivergence Loss: 1.130013108253479\n",
      "Domain 0, Epoch 5:\n",
      "\tReconstruction Loss: -0.11253911256790161\n",
      "\tDivergence Loss: 0.9675825834274292\n",
      "Domain 0, Epoch 6:\n",
      "\tReconstruction Loss: 0.07693153619766235\n",
      "\tDivergence Loss: 0.8116381764411926\n",
      "Domain 0, Epoch 7:\n",
      "\tReconstruction Loss: 0.157678484916687\n",
      "\tDivergence Loss: 0.7116734981536865\n",
      "Domain 0, Epoch 8:\n",
      "\tReconstruction Loss: 0.28145909309387207\n",
      "\tDivergence Loss: 0.702094554901123\n",
      "Domain 0, Epoch 9:\n",
      "\tReconstruction Loss: 0.27154093980789185\n",
      "\tDivergence Loss: 0.737032413482666\n",
      "Domain 0, Epoch 10:\n",
      "\tReconstruction Loss: 0.07068204879760742\n",
      "\tDivergence Loss: 0.8827105760574341\n",
      "Domain 0, Epoch 11:\n",
      "\tReconstruction Loss: -0.008517861366271973\n",
      "\tDivergence Loss: 1.051863193511963\n",
      "Domain 0, Epoch 12:\n",
      "\tReconstruction Loss: -0.12569302320480347\n",
      "\tDivergence Loss: 1.2516851425170898\n",
      "Domain 0, Epoch 13:\n",
      "\tReconstruction Loss: -0.038243234157562256\n",
      "\tDivergence Loss: 1.2467482089996338\n",
      "Domain 0, Epoch 14:\n",
      "\tReconstruction Loss: -0.08153009414672852\n",
      "\tDivergence Loss: 1.1883113384246826\n",
      "Domain 0, Epoch 15:\n",
      "\tReconstruction Loss: -0.02009516954421997\n",
      "\tDivergence Loss: 1.1163561344146729\n",
      "Domain 0, Epoch 16:\n",
      "\tReconstruction Loss: 0.2801995277404785\n",
      "\tDivergence Loss: 0.8641595840454102\n",
      "Domain 0, Epoch 17:\n",
      "\tReconstruction Loss: 0.3811092972755432\n",
      "\tDivergence Loss: 0.5706762075424194\n",
      "Domain 0, Epoch 18:\n",
      "\tReconstruction Loss: 0.47371557354927063\n",
      "\tDivergence Loss: 0.35208162665367126\n",
      "Domain 0, Epoch 19:\n",
      "\tReconstruction Loss: 0.5294280052185059\n",
      "\tDivergence Loss: 0.2016247808933258\n",
      "Domain 0, Epoch 20:\n",
      "\tReconstruction Loss: 0.5332181453704834\n",
      "\tDivergence Loss: 0.10427719354629517\n",
      "Domain 0, Epoch 21:\n",
      "\tReconstruction Loss: 0.5559588670730591\n",
      "\tDivergence Loss: 0.06690536439418793\n",
      "Domain 0, Epoch 22:\n",
      "\tReconstruction Loss: 0.5285547971725464\n",
      "\tDivergence Loss: 0.03511617332696915\n",
      "Domain 0, Epoch 23:\n",
      "\tReconstruction Loss: 0.5898921489715576\n",
      "\tDivergence Loss: 0.015777409076690674\n",
      "Domain 0, Epoch 24:\n",
      "\tReconstruction Loss: 0.5740220546722412\n",
      "\tDivergence Loss: 0.0070762778632342815\n",
      "Domain 0, Epoch 25:\n",
      "\tReconstruction Loss: 0.5605624914169312\n",
      "\tDivergence Loss: 0.0036588143557310104\n"
     ]
    },
    {
     "data": {
      "image/png": "[encoded data removed]",
      "text/plain": [
       "<matplotlib.figure.Figure at 0x1a7e53b358>"
      ]
     },
     "metadata": {},
     "output_type": "display_data"
    },
    {
     "name": "stdout",
     "output_type": "stream",
     "text": [
      "Domain 1, Epoch 1:\n",
      "\tReconstruction Loss: 0.821138858795166\n",
      "\tDivergence Loss: 19.455934524536133\n",
      "Domain 1, Epoch 2:\n",
      "\tReconstruction Loss: -0.4248841404914856\n",
      "\tDivergence Loss: 10.005880355834961\n",
      "Domain 1, Epoch 3:\n",
      "\tReconstruction Loss: -2.322669744491577\n",
      "\tDivergence Loss: 4.646157741546631\n",
      "Domain 1, Epoch 4:\n",
      "\tReconstruction Loss: -4.490087032318115\n",
      "\tDivergence Loss: 5.263302803039551\n",
      "Domain 1, Epoch 5:\n",
      "\tReconstruction Loss: -6.402722358703613\n",
      "\tDivergence Loss: 7.121421813964844\n",
      "Domain 1, Epoch 6:\n",
      "\tReconstruction Loss: -7.494524955749512\n",
      "\tDivergence Loss: 8.194828987121582\n",
      "Domain 1, Epoch 7:\n",
      "\tReconstruction Loss: -8.044756889343262\n",
      "\tDivergence Loss: 8.717446327209473\n",
      "Domain 1, Epoch 8:\n",
      "\tReconstruction Loss: -7.58528470993042\n",
      "\tDivergence Loss: 8.243010520935059\n",
      "Domain 1, Epoch 9:\n",
      "\tReconstruction Loss: -6.083847999572754\n",
      "\tDivergence Loss: 6.783500671386719\n",
      "Domain 1, Epoch 10:\n",
      "\tReconstruction Loss: -3.820913314819336\n",
      "\tDivergence Loss: 4.468632221221924\n",
      "Domain 1, Epoch 11:\n",
      "\tReconstruction Loss: -0.8311139345169067\n",
      "\tDivergence Loss: 1.4787437915802002\n",
      "Domain 1, Epoch 12:\n",
      "\tReconstruction Loss: 0.5356850028038025\n",
      "\tDivergence Loss: 0.18549728393554688\n",
      "Domain 1, Epoch 13:\n",
      "\tReconstruction Loss: 0.6223688125610352\n",
      "\tDivergence Loss: 0.4798373878002167\n",
      "Domain 1, Epoch 14:\n",
      "\tReconstruction Loss: 0.5950495004653931\n",
      "\tDivergence Loss: 0.8030790090560913\n",
      "Domain 1, Epoch 15:\n",
      "\tReconstruction Loss: 0.6079443097114563\n",
      "\tDivergence Loss: 0.5362852215766907\n",
      "Domain 1, Epoch 16:\n",
      "\tReconstruction Loss: 0.6123883724212646\n",
      "\tDivergence Loss: 0.17721706628799438\n",
      "Domain 1, Epoch 17:\n",
      "\tReconstruction Loss: 0.603401243686676\n",
      "\tDivergence Loss: 0.045050881803035736\n",
      "Domain 1, Epoch 18:\n",
      "\tReconstruction Loss: 0.5796908736228943\n",
      "\tDivergence Loss: 0.01492252852767706\n",
      "Domain 1, Epoch 19:\n",
      "\tReconstruction Loss: 0.5609857439994812\n",
      "\tDivergence Loss: 0.004999061580747366\n",
      "Domain 1, Epoch 20:\n",
      "\tReconstruction Loss: 0.5842366218566895\n",
      "\tDivergence Loss: 0.003320311661809683\n",
      "Domain 1, Epoch 21:\n",
      "\tReconstruction Loss: 0.5963385701179504\n",
      "\tDivergence Loss: 0.0022350740619003773\n",
      "Domain 1, Epoch 22:\n",
      "\tReconstruction Loss: 0.6143578886985779\n",
      "\tDivergence Loss: 0.0021027191542088985\n",
      "Domain 1, Epoch 23:\n",
      "\tReconstruction Loss: 0.5776239633560181\n",
      "\tDivergence Loss: 0.002711057662963867\n",
      "Domain 1, Epoch 24:\n",
      "\tReconstruction Loss: 0.5969943404197693\n",
      "\tDivergence Loss: 0.004873605445027351\n",
      "Domain 1, Epoch 25:\n",
      "\tReconstruction Loss: 0.5983155965805054\n",
      "\tDivergence Loss: 0.00731669319793582\n"
     ]
    },
    {
     "data": {
      "image/png": "[encoded data removed]",
      "text/plain": [
       "<matplotlib.figure.Figure at 0x1a7d55afd0>"
      ]
     },
     "metadata": {},
     "output_type": "display_data"
    }
   ],
   "source": [
    "trainAutoencodersInitial(samples, encoders, decoders, discriminator, num_samples, original_domains, epochs=num_epochs, weight=weight, lr = lr)\n"
   ]
  },
  {
   "cell_type": "markdown",
   "metadata": {},
   "source": [
    "### Original First Sentence from 0 translated to 1 after training"
   ]
  },
  {
   "cell_type": "code",
   "execution_count": 41,
   "metadata": {},
   "outputs": [
    {
     "name": "stdout",
     "output_type": "stream",
     "text": [
      "(1, 50, 100)\n"
     ]
    },
    {
     "data": {
      "text/plain": [
       "['washington',\n",
       " 'cnn',\n",
       " 'cnn',\n",
       " 'doj',\n",
       " 'doj',\n",
       " 'issue',\n",
       " 'issue',\n",
       " 'issue',\n",
       " 'issue',\n",
       " 'issue',\n",
       " 'issue',\n",
       " 'issue',\n",
       " 'issue',\n",
       " 'issue',\n",
       " 'issue',\n",
       " 'issue',\n",
       " 'issue',\n",
       " 'issue',\n",
       " 'clearly',\n",
       " 'clearly',\n",
       " 'clearly',\n",
       " 'clearly',\n",
       " 'successful',\n",
       " 'successful',\n",
       " 'duty',\n",
       " 'duty',\n",
       " 'duty',\n",
       " '~?@_',\n",
       " '~?@_',\n",
       " '~?@_',\n",
       " '~?@_',\n",
       " '~?@_',\n",
       " '~?@_',\n",
       " '~?@_',\n",
       " '~?@_',\n",
       " '~?@_',\n",
       " '~?@_',\n",
       " '~?@_',\n",
       " '~?@_',\n",
       " '~?@_',\n",
       " '~?@_',\n",
       " '~?@_',\n",
       " '~?@_',\n",
       " '~?@_',\n",
       " '~?@_',\n",
       " '~?@_',\n",
       " '~?@_',\n",
       " '~?@_',\n",
       " '~?@_',\n",
       " '~?@_']"
      ]
     },
     "execution_count": 41,
     "metadata": {},
     "output_type": "execute_result"
    }
   ],
   "source": [
    "translation = translate(seq, samples, encoders, decoders, original_domains[0], original_domains[1])\n",
    "vecSeqToSentence(translation[0,:,:])"
   ]
  },
  {
   "cell_type": "code",
   "execution_count": 42,
   "metadata": {},
   "outputs": [
    {
     "name": "stdout",
     "output_type": "stream",
     "text": [
      "Domain 2, Epoch 1:\n",
      "\tReconstruction Loss: 0.7568528652191162\n",
      "\tDivergence Loss: 15.241006851196289\n",
      "Domain 2, Epoch 2:\n",
      "\tReconstruction Loss: -0.016825735569000244\n",
      "\tDivergence Loss: 5.2126359939575195\n",
      "Domain 2, Epoch 3:\n",
      "\tReconstruction Loss: -0.9302558302879333\n",
      "\tDivergence Loss: 1.6482751369476318\n",
      "Domain 2, Epoch 4:\n",
      "\tReconstruction Loss: -1.989565134048462\n",
      "\tDivergence Loss: 2.675279140472412\n",
      "Domain 2, Epoch 5:\n",
      "\tReconstruction Loss: -3.094478130340576\n",
      "\tDivergence Loss: 3.7431480884552\n",
      "Domain 2, Epoch 6:\n",
      "\tReconstruction Loss: -4.239481449127197\n",
      "\tDivergence Loss: 4.825789928436279\n",
      "Domain 2, Epoch 7:\n",
      "\tReconstruction Loss: -4.623553276062012\n",
      "\tDivergence Loss: 5.214649200439453\n",
      "Domain 2, Epoch 8:\n",
      "\tReconstruction Loss: -4.595030784606934\n",
      "\tDivergence Loss: 5.175758361816406\n",
      "Domain 2, Epoch 9:\n",
      "\tReconstruction Loss: -3.979313850402832\n",
      "\tDivergence Loss: 4.594722747802734\n",
      "Domain 2, Epoch 10:\n",
      "\tReconstruction Loss: -2.841769218444824\n",
      "\tDivergence Loss: 3.426403284072876\n",
      "Domain 2, Epoch 11:\n",
      "\tReconstruction Loss: -1.2517907619476318\n",
      "\tDivergence Loss: 1.9929072856903076\n",
      "Domain 2, Epoch 12:\n",
      "\tReconstruction Loss: 0.06366604566574097\n",
      "\tDivergence Loss: 3.8178515434265137\n",
      "Domain 2, Epoch 13:\n",
      "\tReconstruction Loss: -0.3510711193084717\n",
      "\tDivergence Loss: 2.1570663452148438\n",
      "Domain 2, Epoch 14:\n",
      "\tReconstruction Loss: -1.0225276947021484\n",
      "\tDivergence Loss: 1.6531732082366943\n",
      "Domain 2, Epoch 15:\n",
      "\tReconstruction Loss: -0.6149739027023315\n",
      "\tDivergence Loss: 1.1881545782089233\n",
      "Domain 2, Epoch 16:\n",
      "\tReconstruction Loss: 0.14207398891448975\n",
      "\tDivergence Loss: 0.5975445508956909\n",
      "Domain 2, Epoch 17:\n",
      "\tReconstruction Loss: 0.44019368290901184\n",
      "\tDivergence Loss: 0.6132572889328003\n",
      "Domain 2, Epoch 18:\n",
      "\tReconstruction Loss: 0.5139212012290955\n",
      "\tDivergence Loss: 0.6441259980201721\n",
      "Domain 2, Epoch 19:\n",
      "\tReconstruction Loss: 0.5192462801933289\n",
      "\tDivergence Loss: 0.25258588790893555\n",
      "Domain 2, Epoch 20:\n",
      "\tReconstruction Loss: 0.45016419887542725\n",
      "\tDivergence Loss: 0.114395871758461\n",
      "Domain 2, Epoch 21:\n",
      "\tReconstruction Loss: 0.4703453779220581\n",
      "\tDivergence Loss: 0.062475454062223434\n",
      "Domain 2, Epoch 22:\n",
      "\tReconstruction Loss: 0.5231324434280396\n",
      "\tDivergence Loss: 0.03366456925868988\n",
      "Domain 2, Epoch 23:\n",
      "\tReconstruction Loss: 0.5453006625175476\n",
      "\tDivergence Loss: 0.0244534220546484\n",
      "Domain 2, Epoch 24:\n",
      "\tReconstruction Loss: 0.5854952931404114\n",
      "\tDivergence Loss: 0.025010179728269577\n",
      "Domain 2, Epoch 25:\n",
      "\tReconstruction Loss: 0.5529769659042358\n",
      "\tDivergence Loss: 0.020337719470262527\n"
     ]
    },
    {
     "data": {
      "image/png": "[encoded data removed]",
      "text/plain": [
       "<matplotlib.figure.Figure at 0x1a7e13ae10>"
      ]
     },
     "metadata": {},
     "output_type": "display_data"
    },
    {
     "name": "stdout",
     "output_type": "stream",
     "text": [
      "Domain 3, Epoch 1:\n",
      "\tReconstruction Loss: 0.7610056400299072\n",
      "\tDivergence Loss: 20.02720069885254\n",
      "Domain 3, Epoch 2:\n",
      "\tReconstruction Loss: 0.5953942537307739\n",
      "\tDivergence Loss: 9.497657775878906\n",
      "Domain 3, Epoch 3:\n",
      "\tReconstruction Loss: 0.2633674740791321\n",
      "\tDivergence Loss: 4.758066177368164\n",
      "Domain 3, Epoch 4:\n",
      "\tReconstruction Loss: -0.2975892424583435\n",
      "\tDivergence Loss: 1.6253783702850342\n",
      "Domain 3, Epoch 5:\n",
      "\tReconstruction Loss: -1.0659676790237427\n",
      "\tDivergence Loss: 1.705126404762268\n",
      "Domain 3, Epoch 6:\n",
      "\tReconstruction Loss: -2.0204782485961914\n",
      "\tDivergence Loss: 2.6064915657043457\n",
      "Domain 3, Epoch 7:\n",
      "\tReconstruction Loss: -2.8709981441497803\n",
      "\tDivergence Loss: 3.4329209327697754\n",
      "Domain 3, Epoch 8:\n",
      "\tReconstruction Loss: -3.5097451210021973\n",
      "\tDivergence Loss: 4.0454583168029785\n",
      "Domain 3, Epoch 9:\n",
      "\tReconstruction Loss: -3.3912136554718018\n",
      "\tDivergence Loss: 3.941016674041748\n",
      "Domain 3, Epoch 10:\n",
      "\tReconstruction Loss: -2.6461594104766846\n",
      "\tDivergence Loss: 3.171602725982666\n",
      "Domain 3, Epoch 11:\n",
      "\tReconstruction Loss: -1.3590277433395386\n",
      "\tDivergence Loss: 1.9460153579711914\n",
      "Domain 3, Epoch 12:\n",
      "\tReconstruction Loss: -0.018776118755340576\n",
      "\tDivergence Loss: 1.046095371246338\n",
      "Domain 3, Epoch 13:\n",
      "\tReconstruction Loss: 0.4368654191493988\n",
      "\tDivergence Loss: 1.1350388526916504\n",
      "Domain 3, Epoch 14:\n",
      "\tReconstruction Loss: 0.4848480224609375\n",
      "\tDivergence Loss: 0.6496809720993042\n",
      "Domain 3, Epoch 15:\n",
      "\tReconstruction Loss: 0.4914979338645935\n",
      "\tDivergence Loss: 0.2679760754108429\n",
      "Domain 3, Epoch 16:\n",
      "\tReconstruction Loss: 0.48752477765083313\n",
      "\tDivergence Loss: 0.12848618626594543\n",
      "Domain 3, Epoch 17:\n",
      "\tReconstruction Loss: 0.48924776911735535\n",
      "\tDivergence Loss: 0.07223762571811676\n",
      "Domain 3, Epoch 18:\n",
      "\tReconstruction Loss: 0.49569594860076904\n",
      "\tDivergence Loss: 0.053889840841293335\n",
      "Domain 3, Epoch 19:\n",
      "\tReconstruction Loss: 0.48447951674461365\n",
      "\tDivergence Loss: 0.04605328291654587\n",
      "Domain 3, Epoch 20:\n",
      "\tReconstruction Loss: 0.5059405565261841\n",
      "\tDivergence Loss: 0.03475011885166168\n",
      "Domain 3, Epoch 21:\n",
      "\tReconstruction Loss: 0.4960825741291046\n",
      "\tDivergence Loss: 0.025636782869696617\n",
      "Domain 3, Epoch 22:\n",
      "\tReconstruction Loss: 0.5477012395858765\n",
      "\tDivergence Loss: 0.02075972408056259\n",
      "Domain 3, Epoch 23:\n",
      "\tReconstruction Loss: 0.5841542482376099\n",
      "\tDivergence Loss: 0.021131452172994614\n",
      "Domain 3, Epoch 24:\n",
      "\tReconstruction Loss: 0.5398205518722534\n",
      "\tDivergence Loss: 0.016306597739458084\n",
      "Domain 3, Epoch 25:\n",
      "\tReconstruction Loss: 0.5222270488739014\n",
      "\tDivergence Loss: 0.010222120210528374\n"
     ]
    },
    {
     "data": {
      "image/png": "[encoded data removed]",
      "text/plain": [
       "<matplotlib.figure.Figure at 0x1a441940f0>"
      ]
     },
     "metadata": {},
     "output_type": "display_data"
    },
    {
     "name": "stdout",
     "output_type": "stream",
     "text": [
      "Domain 4, Epoch 1:\n",
      "\tReconstruction Loss: 0.739963710308075\n",
      "\tDivergence Loss: 5.590182781219482\n",
      "Domain 4, Epoch 2:\n",
      "\tReconstruction Loss: 0.6523697972297668\n",
      "\tDivergence Loss: 0.2132924348115921\n",
      "Domain 4, Epoch 3:\n",
      "\tReconstruction Loss: 0.20830658078193665\n",
      "\tDivergence Loss: 0.4996757507324219\n",
      "Domain 4, Epoch 4:\n",
      "\tReconstruction Loss: -0.49753421545028687\n",
      "\tDivergence Loss: 1.1279189586639404\n",
      "Domain 4, Epoch 5:\n",
      "\tReconstruction Loss: -1.1484606266021729\n",
      "\tDivergence Loss: 1.7782752513885498\n",
      "Domain 4, Epoch 6:\n",
      "\tReconstruction Loss: -1.777047872543335\n",
      "\tDivergence Loss: 2.364665985107422\n",
      "Domain 4, Epoch 7:\n",
      "\tReconstruction Loss: -2.1714212894439697\n",
      "\tDivergence Loss: 2.771063804626465\n",
      "Domain 4, Epoch 8:\n",
      "\tReconstruction Loss: -2.5181336402893066\n",
      "\tDivergence Loss: 3.075178861618042\n",
      "Domain 4, Epoch 9:\n",
      "\tReconstruction Loss: -2.2594103813171387\n",
      "\tDivergence Loss: 2.8581573963165283\n",
      "Domain 4, Epoch 10:\n",
      "\tReconstruction Loss: -1.432797908782959\n",
      "\tDivergence Loss: 2.26532244682312\n",
      "Domain 4, Epoch 11:\n",
      "\tReconstruction Loss: -0.40661799907684326\n",
      "\tDivergence Loss: 2.865264892578125\n",
      "Domain 4, Epoch 12:\n",
      "\tReconstruction Loss: -0.7173616290092468\n",
      "\tDivergence Loss: 2.0012869834899902\n",
      "Domain 4, Epoch 13:\n",
      "\tReconstruction Loss: -0.6907479166984558\n",
      "\tDivergence Loss: 1.6620632410049438\n",
      "Domain 4, Epoch 14:\n",
      "\tReconstruction Loss: -0.33110642433166504\n",
      "\tDivergence Loss: 1.2879390716552734\n",
      "Domain 4, Epoch 15:\n",
      "\tReconstruction Loss: 0.07812395691871643\n",
      "\tDivergence Loss: 1.2057119607925415\n",
      "Domain 4, Epoch 16:\n",
      "\tReconstruction Loss: 0.15714186429977417\n",
      "\tDivergence Loss: 1.0061540603637695\n",
      "Domain 4, Epoch 17:\n",
      "\tReconstruction Loss: 0.04806727170944214\n",
      "\tDivergence Loss: 0.8129642009735107\n",
      "Domain 4, Epoch 18:\n",
      "\tReconstruction Loss: 0.10498970746994019\n",
      "\tDivergence Loss: 0.6846112608909607\n",
      "Domain 4, Epoch 19:\n",
      "\tReconstruction Loss: 0.3295378088951111\n",
      "\tDivergence Loss: 0.4481446146965027\n",
      "Domain 4, Epoch 20:\n",
      "\tReconstruction Loss: 0.4861201047897339\n",
      "\tDivergence Loss: 0.3564549684524536\n",
      "Domain 4, Epoch 21:\n",
      "\tReconstruction Loss: 0.5214328169822693\n",
      "\tDivergence Loss: 0.2711547613143921\n",
      "Domain 4, Epoch 22:\n",
      "\tReconstruction Loss: 0.4652891457080841\n",
      "\tDivergence Loss: 0.17785793542861938\n",
      "Domain 4, Epoch 23:\n",
      "\tReconstruction Loss: 0.4697142541408539\n",
      "\tDivergence Loss: 0.1458258479833603\n",
      "Domain 4, Epoch 24:\n",
      "\tReconstruction Loss: 0.43007922172546387\n",
      "\tDivergence Loss: 0.13470962643623352\n",
      "Domain 4, Epoch 25:\n",
      "\tReconstruction Loss: 0.44700658321380615\n",
      "\tDivergence Loss: 0.09421010315418243\n"
     ]
    },
    {
     "data": {
      "image/png": "[encoded data removed]",
      "text/plain": [
       "<matplotlib.figure.Figure at 0x1a7e068a90>"
      ]
     },
     "metadata": {},
     "output_type": "display_data"
    },
    {
     "name": "stdout",
     "output_type": "stream",
     "text": [
      "Domain 5, Epoch 1:\n",
      "\tReconstruction Loss: 0.8506708145141602\n",
      "\tDivergence Loss: 23.026275634765625\n",
      "Domain 5, Epoch 2:\n",
      "\tReconstruction Loss: 0.8509060144424438\n",
      "\tDivergence Loss: 23.03009605407715\n",
      "Domain 5, Epoch 3:\n",
      "\tReconstruction Loss: 0.7314859628677368\n",
      "\tDivergence Loss: 23.045534133911133\n",
      "Domain 5, Epoch 4:\n",
      "\tReconstruction Loss: 0.6409122347831726\n",
      "\tDivergence Loss: 23.08064079284668\n",
      "Domain 5, Epoch 5:\n",
      "\tReconstruction Loss: 0.618276059627533\n",
      "\tDivergence Loss: 23.111862182617188\n",
      "Domain 5, Epoch 6:\n",
      "\tReconstruction Loss: 0.5895544290542603\n",
      "\tDivergence Loss: 23.12167739868164\n",
      "Domain 5, Epoch 7:\n",
      "\tReconstruction Loss: 0.5834795236587524\n",
      "\tDivergence Loss: 23.12062644958496\n",
      "Domain 5, Epoch 8:\n",
      "\tReconstruction Loss: 0.5990704298019409\n",
      "\tDivergence Loss: 23.090255737304688\n",
      "Domain 5, Epoch 9:\n",
      "\tReconstruction Loss: 0.5776880979537964\n",
      "\tDivergence Loss: 23.06589126586914\n",
      "Domain 5, Epoch 10:\n",
      "\tReconstruction Loss: 0.5959779620170593\n",
      "\tDivergence Loss: 23.032482147216797\n",
      "Domain 5, Epoch 11:\n",
      "\tReconstruction Loss: 0.6011933088302612\n",
      "\tDivergence Loss: 23.026283264160156\n",
      "Domain 5, Epoch 12:\n",
      "\tReconstruction Loss: 0.5940954089164734\n",
      "\tDivergence Loss: 23.025896072387695\n",
      "Domain 5, Epoch 13:\n",
      "\tReconstruction Loss: 0.6302387714385986\n",
      "\tDivergence Loss: 23.025859832763672\n",
      "Domain 5, Epoch 14:\n",
      "\tReconstruction Loss: 0.6053805351257324\n",
      "\tDivergence Loss: 23.02585220336914\n",
      "Domain 5, Epoch 15:\n",
      "\tReconstruction Loss: 0.5493809580802917\n",
      "\tDivergence Loss: 23.025850296020508\n",
      "Domain 5, Epoch 16:\n",
      "\tReconstruction Loss: 0.5967680215835571\n",
      "\tDivergence Loss: 23.025850296020508\n",
      "Domain 5, Epoch 17:\n",
      "\tReconstruction Loss: 0.6067447662353516\n",
      "\tDivergence Loss: 23.025850296020508\n",
      "Domain 5, Epoch 18:\n",
      "\tReconstruction Loss: 0.588509738445282\n",
      "\tDivergence Loss: 23.025850296020508\n",
      "Domain 5, Epoch 19:\n",
      "\tReconstruction Loss: 0.584423303604126\n",
      "\tDivergence Loss: 23.025850296020508\n",
      "Domain 5, Epoch 20:\n",
      "\tReconstruction Loss: 0.582317590713501\n",
      "\tDivergence Loss: 23.025850296020508\n",
      "Domain 5, Epoch 21:\n",
      "\tReconstruction Loss: 0.5977656245231628\n",
      "\tDivergence Loss: 23.025850296020508\n",
      "Domain 5, Epoch 22:\n",
      "\tReconstruction Loss: 0.5804643034934998\n",
      "\tDivergence Loss: 23.025850296020508\n",
      "Domain 5, Epoch 23:\n",
      "\tReconstruction Loss: 0.6095589995384216\n",
      "\tDivergence Loss: 23.025850296020508\n",
      "Domain 5, Epoch 24:\n",
      "\tReconstruction Loss: 0.6053642630577087\n",
      "\tDivergence Loss: 23.025850296020508\n",
      "Domain 5, Epoch 25:\n",
      "\tReconstruction Loss: 0.5955621600151062\n",
      "\tDivergence Loss: 23.025850296020508\n"
     ]
    },
    {
     "data": {
      "image/png": "[encoded data removed]",
      "text/plain": [
       "<matplotlib.figure.Figure at 0x113162748>"
      ]
     },
     "metadata": {},
     "output_type": "display_data"
    }
   ],
   "source": [
    "trainAutoencodersWithPz(samples, encoders, decoders, discriminator, num_samples, original_domains, epochs=num_epochs, weight=weight, lr = lr)\n"
   ]
  },
  {
   "cell_type": "markdown",
   "metadata": {},
   "source": [
    "### Original First Sentence from 0 translated to 2 after Training"
   ]
  },
  {
   "cell_type": "code",
   "execution_count": 43,
   "metadata": {},
   "outputs": [
    {
     "name": "stdout",
     "output_type": "stream",
     "text": [
      "(1, 50, 100)\n"
     ]
    },
    {
     "data": {
      "text/plain": [
       "['although',\n",
       " 'while',\n",
       " 'although',\n",
       " 'issue',\n",
       " 'issue',\n",
       " 'issue',\n",
       " 'issue',\n",
       " 'issue',\n",
       " 'issue',\n",
       " 'issue',\n",
       " 'issue',\n",
       " 'issue',\n",
       " 'issue',\n",
       " 'issue',\n",
       " 'issue',\n",
       " 'message',\n",
       " 'clearly',\n",
       " 'clearly',\n",
       " 'answering',\n",
       " 'answering',\n",
       " 'answering',\n",
       " 'trouble',\n",
       " 'trouble',\n",
       " 'successful',\n",
       " 'successful',\n",
       " 'duty',\n",
       " 'duty',\n",
       " '~?@_',\n",
       " '~?@_',\n",
       " '~?@_',\n",
       " '~?@_',\n",
       " '~?@_',\n",
       " '~?@_',\n",
       " '~?@_',\n",
       " '~?@_',\n",
       " '~?@_',\n",
       " '~?@_',\n",
       " '~?@_',\n",
       " '~?@_',\n",
       " '~?@_',\n",
       " '~?@_',\n",
       " '~?@_',\n",
       " '~?@_',\n",
       " '~?@_',\n",
       " '~?@_',\n",
       " '~?@_',\n",
       " '~?@_',\n",
       " '~?@_',\n",
       " '~?@_',\n",
       " '~?@_']"
      ]
     },
     "execution_count": 43,
     "metadata": {},
     "output_type": "execute_result"
    }
   ],
   "source": [
    "translation = translate(seq, samples, encoders, decoders, 0, 2)\n",
    "vecSeqToSentence(translation[0,:,:])"
   ]
  },
  {
   "cell_type": "markdown",
   "metadata": {},
   "source": [
    "## All Translations"
   ]
  },
  {
   "cell_type": "code",
   "execution_count": null,
   "metadata": {},
   "outputs": [
    {
     "name": "stdout",
     "output_type": "stream",
     "text": [
      "Breitbart to CNN\n",
      "\t on tuesday ’ s broadcast ” zeleny said, “ and she ’ s having a difficult time in federal prison, no question . ~?@_ ~?@_ ~?@_ ~?@_ ~?@_ ~?@_ ~?@_ ~?@_ ~?@_ ~?@_ ~?@_ ~?@_ ~?@_ ~?@_ ~?@_ ~?@_ ~?@_ ~?@_ ~?@_ ~?@_ ~?@_ ~?@_ ~?@_ ~?@_ ~?@_\n",
      "\n",
      "to\n",
      "\n",
      "\t washington washington washington doj although issue issue issue message message issue message message message message message clearly clearly clearly clearly clearly successful disappointing disappointing ~?@_ ~?@_ ~?@_ ~?@_ ~?@_ ~?@_ ~?@_ ~?@_ ~?@_ ~?@_ ~?@_ ~?@_ ~?@_ ~?@_ ~?@_ ~?@_ ~?@_ ~?@_ ~?@_ ~?@_ ~?@_ ~?@_ ~?@_ ~?@_ ~?@_ ~?@_ \n",
      "\n",
      "Breitbart to New York Times\n",
      "\t on tuesday ’ s broadcast ” zeleny said, “ and she ’ s having a difficult time in federal prison, no question . ~?@_ ~?@_ ~?@_ ~?@_ ~?@_ ~?@_ ~?@_ ~?@_ ~?@_ ~?@_ ~?@_ ~?@_ ~?@_ ~?@_ ~?@_ ~?@_ ~?@_ ~?@_ ~?@_ ~?@_ ~?@_ ~?@_ ~?@_ ~?@_ ~?@_\n",
      "\n",
      "to\n",
      "\n",
      "\t although although issue issue issue issue issue issue issue issue issue message issue message clearly clearly critical answering perceived successful disappointing duty ~?@_ ~?@_ ~?@_ ~?@_ ~?@_ ~?@_ ~?@_ ~?@_ ~?@_ ~?@_ ~?@_ ~?@_ ~?@_ ~?@_ ~?@_ ~?@_ ~?@_ ~?@_ ~?@_ ~?@_ ~?@_ ~?@_ ~?@_ ~?@_ ~?@_ ~?@_ ~?@_ ~?@_ \n",
      "\n",
      "Breitbart to NPR\n",
      "\t on tuesday ’ s broadcast ” zeleny said, “ and she ’ s having a difficult time in federal prison, no question . ~?@_ ~?@_ ~?@_ ~?@_ ~?@_ ~?@_ ~?@_ ~?@_ ~?@_ ~?@_ ~?@_ ~?@_ ~?@_ ~?@_ ~?@_ ~?@_ ~?@_ ~?@_ ~?@_ ~?@_ ~?@_ ~?@_ ~?@_ ~?@_ ~?@_\n",
      "\n",
      "to\n",
      "\n",
      "\t issue issue issue issue issue issue issue issue issue issue issue issue critical critical critical critical critical critical successful successful ending ~?@_ ~?@_ ~?@_ ~?@_ ~?@_ ~?@_ ~?@_ ~?@_ ~?@_ ~?@_ ~?@_ ~?@_ ~?@_ ~?@_ ~?@_ ~?@_ ~?@_ ~?@_ ~?@_ ~?@_ ~?@_ ~?@_ ~?@_ ~?@_ ~?@_ ~?@_ ~?@_ ~?@_ ~?@_ \n",
      "\n",
      "Breitbart to Fox News\n",
      "\t on tuesday ’ s broadcast ” zeleny said, “ and she ’ s having a difficult time in federal prison, no question . ~?@_ ~?@_ ~?@_ ~?@_ ~?@_ ~?@_ ~?@_ ~?@_ ~?@_ ~?@_ ~?@_ ~?@_ ~?@_ ~?@_ ~?@_ ~?@_ ~?@_ ~?@_ ~?@_ ~?@_ ~?@_ ~?@_ ~?@_ ~?@_ ~?@_\n",
      "\n",
      "to\n",
      "\n",
      "\t although although issue although although instead instead instead instead although instead instead issue message message mentioned critical critical critical successful successful successful successful ending ~?@_ ~?@_ ~?@_ ~?@_ ~?@_ ~?@_ ~?@_ ~?@_ ~?@_ ~?@_ ~?@_ ~?@_ ~?@_ ~?@_ ~?@_ ~?@_ ~?@_ ~?@_ ~?@_ ~?@_ ~?@_ ~?@_ ~?@_ ~?@_ ~?@_ ~?@_ \n",
      "\n",
      "Breitbart to Reuters\n",
      "\t on tuesday ’ s broadcast ” zeleny said, “ and she ’ s having a difficult time in federal prison, no question . ~?@_ ~?@_ ~?@_ ~?@_ ~?@_ ~?@_ ~?@_ ~?@_ ~?@_ ~?@_ ~?@_ ~?@_ ~?@_ ~?@_ ~?@_ ~?@_ ~?@_ ~?@_ ~?@_ ~?@_ ~?@_ ~?@_ ~?@_ ~?@_ ~?@_\n",
      "\n",
      "to\n",
      "\n",
      "\t issue issue although although although although although although although issue issue issue issue issue issue issue critical critical critical successful duty duty duty duty ~?@_ ~?@_ ~?@_ ~?@_ ~?@_ ~?@_ ~?@_ ~?@_ ~?@_ ~?@_ ~?@_ ~?@_ ~?@_ ~?@_ ~?@_ ~?@_ ~?@_ ~?@_ ~?@_ ~?@_ ~?@_ ~?@_ ~?@_ ~?@_ ~?@_ ~?@_ \n",
      "\n",
      "CNN to Breitbart\n",
      "\t istanbul (cnn) at ” we are face to face with a terror attack, ” interior minister suleyman soylu told reporters . ~?@_ ~?@_ ~?@_ ~?@_ ~?@_ ~?@_ ~?@_ ~?@_ ~?@_ ~?@_ ~?@_ ~?@_ ~?@_ ~?@_ ~?@_ ~?@_ ~?@_ ~?@_ ~?@_ ~?@_ ~?@_ ~?@_ ~?@_ ~?@_ ~?@_ ~?@_\n",
      "\n",
      "to\n",
      "\n",
      "\t message message message message message ” message message message message message message message message message message clearly critical clearly clearly trouble trouble successful successful duty duty ~?@_ ~?@_ ~?@_ ~?@_ ~?@_ ~?@_ ~?@_ ~?@_ ~?@_ ~?@_ ~?@_ ~?@_ ~?@_ ~?@_ ~?@_ ~?@_ ~?@_ ~?@_ ~?@_ ~?@_ ~?@_ ~?@_ ~?@_ ~?@_ \n",
      "\n",
      "CNN to New York Times\n",
      "\t istanbul (cnn) at ” we are face to face with a terror attack, ” interior minister suleyman soylu told reporters . ~?@_ ~?@_ ~?@_ ~?@_ ~?@_ ~?@_ ~?@_ ~?@_ ~?@_ ~?@_ ~?@_ ~?@_ ~?@_ ~?@_ ~?@_ ~?@_ ~?@_ ~?@_ ~?@_ ~?@_ ~?@_ ~?@_ ~?@_ ~?@_ ~?@_ ~?@_\n",
      "\n",
      "to\n",
      "\n",
      "\t message although message issue issue issue issue issue issue issue message message message message critical answering trouble perceived duty duty ~?@_ ~?@_ ~?@_ ~?@_ ~?@_ ~?@_ ~?@_ ~?@_ ~?@_ ~?@_ ~?@_ ~?@_ ~?@_ ~?@_ ~?@_ ~?@_ ~?@_ ~?@_ ~?@_ ~?@_ ~?@_ ~?@_ ~?@_ ~?@_ ~?@_ ~?@_ ~?@_ ~?@_ ~?@_ ~?@_ \n",
      "\n",
      "CNN to NPR\n",
      "\t istanbul (cnn) at ” we are face to face with a terror attack, ” interior minister suleyman soylu told reporters . ~?@_ ~?@_ ~?@_ ~?@_ ~?@_ ~?@_ ~?@_ ~?@_ ~?@_ ~?@_ ~?@_ ~?@_ ~?@_ ~?@_ ~?@_ ~?@_ ~?@_ ~?@_ ~?@_ ~?@_ ~?@_ ~?@_ ~?@_ ~?@_ ~?@_ ~?@_\n",
      "\n",
      "to\n",
      "\n",
      "\t issue issue issue issue critical issue issue issue issue issue issue critical critical critical critical critical critical successful successful successful ~?@_ ~?@_ ~?@_ ~?@_ ~?@_ ~?@_ ~?@_ ~?@_ ~?@_ ~?@_ ~?@_ ~?@_ ~?@_ ~?@_ ~?@_ ~?@_ ~?@_ ~?@_ ~?@_ ~?@_ ~?@_ ~?@_ ~?@_ ~?@_ ~?@_ ~?@_ ~?@_ ~?@_ ~?@_ ~?@_ \n",
      "\n",
      "CNN to Fox News\n",
      "\t istanbul (cnn) at ” we are face to face with a terror attack, ” interior minister suleyman soylu told reporters . ~?@_ ~?@_ ~?@_ ~?@_ ~?@_ ~?@_ ~?@_ ~?@_ ~?@_ ~?@_ ~?@_ ~?@_ ~?@_ ~?@_ ~?@_ ~?@_ ~?@_ ~?@_ ~?@_ ~?@_ ~?@_ ~?@_ ~?@_ ~?@_ ~?@_ ~?@_\n",
      "\n",
      "to\n",
      "\n"
     ]
    }
   ],
   "source": [
    "detok = TreebankWordDetokenizer()\n",
    "for i in range(len(selected_publications)):\n",
    "        for j in range(len(selected_publications)):\n",
    "            if (i != j):\n",
    "                pub1=publications[i]\n",
    "                pub2=publications[j]\n",
    "                \n",
    "                encoder = encoders[i]\n",
    "                decoder = decoders[j]\n",
    "                \n",
    "                source_article = samples[i][0:1]\n",
    "                \n",
    "                translated = decoder(encoder(tf.convert_to_tensor(source_article, dtype=tf.float32)))\n",
    "                \n",
    "                print(pub1,\"to\",pub2)\n",
    "                print(\"\\t\",detok.detokenize(vecSeqToSentence(source_article[0])))\n",
    "                print(\"\\nto\\n\")\n",
    "                print(\"\\t\",detok.detokenize(vecSeqToSentence(translated[0])), \"\\n\")\n",
    "                "
   ]
  },
  {
   "cell_type": "markdown",
   "metadata": {},
   "source": [
    "## Evaluation with Rouge"
   ]
  },
  {
   "cell_type": "code",
   "execution_count": null,
   "metadata": {},
   "outputs": [],
   "source": [
    "eval_df"
   ]
  },
  {
   "cell_type": "code",
   "execution_count": null,
   "metadata": {},
   "outputs": [],
   "source": [
    "contents = []\n",
    "for pub in publications:\n",
    "    contents.append(np.asarray(eval_df[eval_df['publication'] == pub]['content']))\n",
    "    \n",
    "for content in contents:\n",
    "    for seq in content:\n",
    "        seq.extend([end_token] * (max_seq_length - len(seq)))\n",
    "    \n",
    "contents = np.asarray(contents)\n",
    "samples = np.zeros(shape=(contents.shape[0], contents.shape[1], max_seq_length, word_dim))\n",
    "\n",
    "for i in range(contents.shape[0]):\n",
    "    for j in range(contents.shape[1]):\n",
    "        for k in range(max_seq_length):\n",
    "            samples[i, j, k, :] = word2vec.wv[contents[i, j][k]]"
   ]
  },
  {
   "cell_type": "code",
   "execution_count": null,
   "metadata": {},
   "outputs": [],
   "source": [
    "evaluator = rouge.Rouge(metrics=['rouge-n', 'rouge-l', 'rouge-w'],\n",
    "                        max_n=4,\n",
    "                        limit_length=True,\n",
    "                        length_limit=100,\n",
    "                        length_limit_type='words',\n",
    "                        apply_avg=False,\n",
    "                        apply_best=True,\n",
    "                        alpha=0.5, # Default F1_score\n",
    "                        weight_factor=1.2,\n",
    "                        stemming=True\n",
    "                       )"
   ]
  },
  {
   "cell_type": "code",
   "execution_count": null,
   "metadata": {},
   "outputs": [],
   "source": [
    "def evaluateOnArticles(articles, encoder, decoder):\n",
    "    translated = decoder(encoder(tf.convert_to_tensor(articles, dtype=tf.float32)))\n",
    "       \n",
    "    original_sentences = [detok.detokenize(vecSeqToSentence(tokens)) for tokens in articles]\n",
    "    \n",
    "    translated_sentences = [detok.detokenize(vecSeqToSentence(tokens)) for tokens in translated]\n",
    "    \n",
    "    scores = evaluator.get_scores(translated_sentences, original_sentences)\n",
    "    \n",
    "    for metric, results in sorted(scores.items(), key=lambda x: x[0]):\n",
    "        print('\\t{}:\\t{}: {:5.2f}\\t{}: {:5.2f}\\t{}: {:5.2f}'.format(metric, 'P', 100.0 * results['p'], 'R', 100.0 * results['r'], 'F1', 100.0 * results['f']))"
   ]
  },
  {
   "cell_type": "code",
   "execution_count": null,
   "metadata": {},
   "outputs": [],
   "source": [
    "def evaluate(articles, encoders, decoders):\n",
    "    \n",
    "    for i in range(len(selected_publications)):\n",
    "        for j in range(len(selected_publications)):\n",
    "            if (i != j):\n",
    "                pub1=publications[i]\n",
    "                pub2=publications[j]\n",
    "                #source_articles = articles_df.loc[articles_df['publication'] == pub1]['content'].tolist()\n",
    "                source_articles = articles[i]\n",
    "                \n",
    "                print(pub1,\"to\",pub2)\n",
    "                evaluateOnArticles(source_articles, encoders[i], decoders[j])\n",
    "                print()"
   ]
  },
  {
   "cell_type": "code",
   "execution_count": null,
   "metadata": {},
   "outputs": [],
   "source": [
    "evaluate(samples, encoders, decoders)"
   ]
  },
  {
   "cell_type": "code",
   "execution_count": null,
   "metadata": {},
   "outputs": [],
   "source": []
  }
 ],
 "metadata": {
  "kernelspec": {
   "display_name": "Python 3",
   "language": "python",
   "name": "python3"
  },
  "language_info": {
   "codemirror_mode": {
    "name": "ipython",
    "version": 3
   },
   "file_extension": ".py",
   "mimetype": "text/x-python",
   "name": "python",
   "nbconvert_exporter": "python",
   "pygments_lexer": "ipython3",
   "version": "3.6.8"
  }
 },
 "nbformat": 4,
 "nbformat_minor": 2
}
