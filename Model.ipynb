{
 "cells": [
  {
   "cell_type": "markdown",
   "metadata": {},
   "source": [
    "### Imports"
   ]
  },
  {
   "cell_type": "code",
   "execution_count": 1,
   "metadata": {},
   "outputs": [],
   "source": [
    "\n",
    "import pickle as pkl\n",
    "import pandas as pd\n",
    "import pandas\n",
    "import numpy as np\n",
    "from nltk.tokenize import sent_tokenize, word_tokenize \n",
    "import gensim \n",
    "from gensim.models import Word2Vec \n",
    "import rouge\n",
    "from nltk.tokenize.treebank import TreebankWordDetokenizer\n",
    "\n",
    "import tensorflow as tf\n",
    "from tensorflow.keras.layers import Dense, LSTM, Activation, Bidirectional, Dropout, Input, concatenate, Reshape, TimeDistributed, Flatten\n",
    "from tensorflow.keras.models import Sequential\n",
    "from tensorflow.keras import Model\n",
    "import tensorflow.keras.backend as K\n"
   ]
  },
  {
   "cell_type": "markdown",
   "metadata": {},
   "source": [
    "### Loading Data"
   ]
  },
  {
   "cell_type": "code",
   "execution_count": 2,
   "metadata": {},
   "outputs": [
    {
     "data": {
      "text/html": [
       "<div>\n",
       "<style scoped>\n",
       "    .dataframe tbody tr th:only-of-type {\n",
       "        vertical-align: middle;\n",
       "    }\n",
       "\n",
       "    .dataframe tbody tr th {\n",
       "        vertical-align: top;\n",
       "    }\n",
       "\n",
       "    .dataframe thead th {\n",
       "        text-align: right;\n",
       "    }\n",
       "</style>\n",
       "<table border=\"1\" class=\"dataframe\">\n",
       "  <thead>\n",
       "    <tr style=\"text-align: right;\">\n",
       "      <th></th>\n",
       "      <th>Unnamed: 0</th>\n",
       "      <th>publication</th>\n",
       "      <th>content</th>\n",
       "    </tr>\n",
       "  </thead>\n",
       "  <tbody>\n",
       "    <tr>\n",
       "      <th>0</th>\n",
       "      <td>0</td>\n",
       "      <td>New York Times</td>\n",
       "      <td>[washington, —, congressional, republicans, ha...</td>\n",
       "    </tr>\n",
       "    <tr>\n",
       "      <th>1</th>\n",
       "      <td>1</td>\n",
       "      <td>New York Times</td>\n",
       "      <td>[after, the, bullet, shells, get, counted, ,, ...</td>\n",
       "    </tr>\n",
       "    <tr>\n",
       "      <th>2</th>\n",
       "      <td>2</td>\n",
       "      <td>New York Times</td>\n",
       "      <td>[when, walt, disney, ’, s, “, bambi, ”, opened...</td>\n",
       "    </tr>\n",
       "    <tr>\n",
       "      <th>3</th>\n",
       "      <td>3</td>\n",
       "      <td>New York Times</td>\n",
       "      <td>[death, may, be, the, great, equalizer, ,, but...</td>\n",
       "    </tr>\n",
       "    <tr>\n",
       "      <th>4</th>\n",
       "      <td>4</td>\n",
       "      <td>New York Times</td>\n",
       "      <td>[seoul, ,, south, korea, —, north, korea, ’, s...</td>\n",
       "    </tr>\n",
       "    <tr>\n",
       "      <th>...</th>\n",
       "      <td>...</td>\n",
       "      <td>...</td>\n",
       "      <td>...</td>\n",
       "    </tr>\n",
       "    <tr>\n",
       "      <th>47220</th>\n",
       "      <td>47220</td>\n",
       "      <td>BBC_tech</td>\n",
       "      <td>[bt, is, introducing, two, initiatives, to, he...</td>\n",
       "    </tr>\n",
       "    <tr>\n",
       "      <th>47221</th>\n",
       "      <td>47221</td>\n",
       "      <td>BBC_tech</td>\n",
       "      <td>[computer, users, across, the, world, continue...</td>\n",
       "    </tr>\n",
       "    <tr>\n",
       "      <th>47222</th>\n",
       "      <td>47222</td>\n",
       "      <td>BBC_tech</td>\n",
       "      <td>[a, new, european, directive, could, put, soft...</td>\n",
       "    </tr>\n",
       "    <tr>\n",
       "      <th>47223</th>\n",
       "      <td>47223</td>\n",
       "      <td>BBC_tech</td>\n",
       "      <td>[the, man, making, sure, us, computer, network...</td>\n",
       "    </tr>\n",
       "    <tr>\n",
       "      <th>47224</th>\n",
       "      <td>47224</td>\n",
       "      <td>BBC_tech</td>\n",
       "      <td>[online, role, playing, games, are, time-consu...</td>\n",
       "    </tr>\n",
       "  </tbody>\n",
       "</table>\n",
       "<p>47225 rows × 3 columns</p>\n",
       "</div>"
      ],
      "text/plain": [
       "       Unnamed: 0     publication  \\\n",
       "0               0  New York Times   \n",
       "1               1  New York Times   \n",
       "2               2  New York Times   \n",
       "3               3  New York Times   \n",
       "4               4  New York Times   \n",
       "...           ...             ...   \n",
       "47220       47220        BBC_tech   \n",
       "47221       47221        BBC_tech   \n",
       "47222       47222        BBC_tech   \n",
       "47223       47223        BBC_tech   \n",
       "47224       47224        BBC_tech   \n",
       "\n",
       "                                                 content  \n",
       "0      [washington, —, congressional, republicans, ha...  \n",
       "1      [after, the, bullet, shells, get, counted, ,, ...  \n",
       "2      [when, walt, disney, ’, s, “, bambi, ”, opened...  \n",
       "3      [death, may, be, the, great, equalizer, ,, but...  \n",
       "4      [seoul, ,, south, korea, —, north, korea, ’, s...  \n",
       "...                                                  ...  \n",
       "47220  [bt, is, introducing, two, initiatives, to, he...  \n",
       "47221  [computer, users, across, the, world, continue...  \n",
       "47222  [a, new, european, directive, could, put, soft...  \n",
       "47223  [the, man, making, sure, us, computer, network...  \n",
       "47224  [online, role, playing, games, are, time-consu...  \n",
       "\n",
       "[47225 rows x 3 columns]"
      ]
     },
     "execution_count": 2,
     "metadata": {},
     "output_type": "execute_result"
    }
   ],
   "source": [
    "data = pd.read_pickle('data/tokenized.pkl')\n",
    "data"
   ]
  },
  {
   "cell_type": "code",
   "execution_count": 3,
   "metadata": {},
   "outputs": [],
   "source": [
    "all_sentences = list(data['content'])"
   ]
  },
  {
   "cell_type": "markdown",
   "metadata": {},
   "source": [
    "### Getting Relevant publications"
   ]
  },
  {
   "cell_type": "code",
   "execution_count": 4,
   "metadata": {},
   "outputs": [],
   "source": [
    "# selected_publications = [\n",
    "#  'Breitbart',\n",
    "#  'CNN',\n",
    "#  'New York Times',\n",
    "#  'NPR',\n",
    "#  'Fox News',\n",
    "#  'Reuters']\n",
    "selected_publications = [\n",
    " 'Breitbart',\n",
    " 'CNN',\n",
    " 'New York Times']"
   ]
  },
  {
   "cell_type": "code",
   "execution_count": 5,
   "metadata": {},
   "outputs": [
    {
     "data": {
      "text/plain": [
       "['Reuters',\n",
       " 'NPR',\n",
       " 'Guardian',\n",
       " 'Atlantic',\n",
       " 'Business Insider',\n",
       " 'Talking Points Memo',\n",
       " 'Vox',\n",
       " 'Washington Post',\n",
       " 'New York Times',\n",
       " 'CNN',\n",
       " 'BBC_entertainment',\n",
       " 'BBC_politics',\n",
       " 'National Review',\n",
       " 'BBC_business',\n",
       " 'New York Post',\n",
       " 'Fox News',\n",
       " 'BBC_tech',\n",
       " 'Breitbart',\n",
       " 'BBC_sport',\n",
       " 'Buzzfeed News']"
      ]
     },
     "execution_count": 5,
     "metadata": {},
     "output_type": "execute_result"
    }
   ],
   "source": [
    "all_publications = list(set(data['publication']))\n",
    "all_publications"
   ]
  },
  {
   "cell_type": "code",
   "execution_count": 6,
   "metadata": {},
   "outputs": [
    {
     "data": {
      "text/plain": [
       "['Breitbart', 'CNN', 'New York Times']"
      ]
     },
     "execution_count": 6,
     "metadata": {},
     "output_type": "execute_result"
    }
   ],
   "source": [
    "# Take only the contents from publications with >= 3000 samples.\n",
    "publications = [pub for pub in selected_publications if pub in all_publications and len(data[data['publication'] == pub]) >= 3000]\n",
    "publications"
   ]
  },
  {
   "cell_type": "code",
   "execution_count": 7,
   "metadata": {},
   "outputs": [],
   "source": [
    "contents = []\n",
    "for pub in publications:\n",
    "    contents.append(np.asarray(data[data['publication'] == pub]['content']))"
   ]
  },
  {
   "cell_type": "markdown",
   "metadata": {},
   "source": [
    "### Padding with special Character"
   ]
  },
  {
   "cell_type": "code",
   "execution_count": 8,
   "metadata": {},
   "outputs": [
    {
     "data": {
      "text/plain": [
       "307"
      ]
     },
     "execution_count": 8,
     "metadata": {},
     "output_type": "execute_result"
    }
   ],
   "source": [
    "max_seq_length = max([len(seq) for content in contents for seq in content])\n",
    "max_seq_length"
   ]
  },
  {
   "cell_type": "code",
   "execution_count": 9,
   "metadata": {},
   "outputs": [],
   "source": [
    "end_token = '~?@_'"
   ]
  },
  {
   "cell_type": "code",
   "execution_count": 10,
   "metadata": {},
   "outputs": [],
   "source": [
    "for content in contents:\n",
    "    for seq in content:\n",
    "        seq.extend([end_token] * (max_seq_length - len(seq)))"
   ]
  },
  {
   "cell_type": "code",
   "execution_count": 11,
   "metadata": {},
   "outputs": [
    {
     "data": {
      "text/plain": [
       "307"
      ]
     },
     "execution_count": 11,
     "metadata": {},
     "output_type": "execute_result"
    }
   ],
   "source": [
    "max_seq_length = max([len(seq) for content in contents for seq in content])\n",
    "max_seq_length"
   ]
  },
  {
   "cell_type": "markdown",
   "metadata": {},
   "source": [
    "### Vectorize Words"
   ]
  },
  {
   "cell_type": "code",
   "execution_count": 12,
   "metadata": {},
   "outputs": [],
   "source": [
    "word_dim = 100"
   ]
  },
  {
   "cell_type": "code",
   "execution_count": 13,
   "metadata": {},
   "outputs": [],
   "source": [
    "\n",
    "word2vec = gensim.models.Word2Vec(all_sentences, min_count = 1,  \n",
    "                              size = word_dim, window = 5) "
   ]
  },
  {
   "cell_type": "code",
   "execution_count": 14,
   "metadata": {},
   "outputs": [
    {
     "name": "stdout",
     "output_type": "stream",
     "text": [
      "Cosine similarity between 'congress' and 'senate' - CBOW :  0.69307524\n",
      "Cosine similarity between 'congress' and 'house' - CBOW :  0.527322\n"
     ]
    }
   ],
   "source": [
    "print(\"Cosine similarity between 'congress' \" + \n",
    "               \"and 'senate' - CBOW : \", \n",
    "    word2vec.wv.similarity('congress', 'senate')) \n",
    "      \n",
    "print(\"Cosine similarity between 'congress' \" +\n",
    "                 \"and 'house' - CBOW : \", \n",
    "    word2vec.wv.similarity('congress', 'house')) "
   ]
  },
  {
   "cell_type": "code",
   "execution_count": 15,
   "metadata": {},
   "outputs": [
    {
     "data": {
      "text/plain": [
       "array([ 1.6861558 , -1.7420955 ,  1.3501394 , -2.9634385 ,  0.9303591 ,\n",
       "        2.599446  ,  1.6641629 ,  0.7114974 ,  0.5416314 , -1.9632931 ,\n",
       "       -1.0708419 ,  1.0549029 ,  0.28574467, -1.2248058 ,  2.1040874 ,\n",
       "       -2.8837767 , -1.7665795 , -1.6989278 , -0.65262026,  0.12151986,\n",
       "       -0.4298774 ,  0.16583833,  1.9424665 ,  2.9470232 ,  3.887441  ,\n",
       "        0.6652238 , -0.34192714, -2.0701778 , -1.6376003 ,  2.294699  ,\n",
       "       -0.63751656, -2.7813628 , -0.22627059,  0.6528427 , -0.14312306,\n",
       "       -1.2744355 ,  1.2399527 ,  2.4943454 ,  0.90221465,  2.3333092 ,\n",
       "       -0.1188041 ,  1.3899851 , -1.9874605 , -0.25326738,  2.286344  ,\n",
       "       -2.2747042 , -0.7860327 , -0.3404817 ,  2.185882  ,  1.0878699 ,\n",
       "       -0.6699287 , -1.5642676 , -0.9496857 , -1.855672  , -0.2806676 ,\n",
       "        0.22064644, -0.42018828,  0.5700985 ,  1.4853765 , -1.3621356 ,\n",
       "        0.7426257 , -0.24489874, -0.60345906,  0.55355644,  0.666603  ,\n",
       "       -2.3434956 ,  2.2809849 ,  1.6558722 , -0.6875949 , -0.9846631 ,\n",
       "       -1.3530009 ,  1.3707523 ,  0.23704754,  1.2928305 , -1.1076275 ,\n",
       "        2.2224793 ,  1.2030226 , -0.7936351 ,  1.6614698 ,  2.8013728 ,\n",
       "        1.9281248 ,  0.27292526, -3.6484127 , -1.4129825 , -1.0792575 ,\n",
       "        0.11867164,  0.55928594, -1.180087  , -0.39895526, -0.31520882,\n",
       "        0.54858875,  0.39053106, -2.3128548 , -0.94389045,  1.3371681 ,\n",
       "        1.6350714 , -0.45177278,  0.93767834, -0.707771  , -1.6171006 ],\n",
       "      dtype=float32)"
      ]
     },
     "execution_count": 15,
     "metadata": {},
     "output_type": "execute_result"
    }
   ],
   "source": [
    "word2vec.wv['congressional']"
   ]
  },
  {
   "cell_type": "code",
   "execution_count": 16,
   "metadata": {},
   "outputs": [
    {
     "data": {
      "text/plain": [
       "[('congressional', 1.0),\n",
       " ('house', 0.667590320110321),\n",
       " ('congress', 0.6488298177719116),\n",
       " ('senate', 0.6060051918029785),\n",
       " ('legislative', 0.5924760699272156),\n",
       " ('bipartisan', 0.5719712972640991),\n",
       " ('gop', 0.5696830749511719),\n",
       " ('lawmakers', 0.5650408864021301),\n",
       " ('republican', 0.5463024973869324),\n",
       " ('chamber', 0.5334421992301941)]"
      ]
     },
     "execution_count": 16,
     "metadata": {},
     "output_type": "execute_result"
    }
   ],
   "source": [
    "word2vec.wv.similar_by_vector(word2vec.wv['congressional'])"
   ]
  },
  {
   "cell_type": "code",
   "execution_count": null,
   "metadata": {},
   "outputs": [],
   "source": []
  },
  {
   "cell_type": "code",
   "execution_count": 17,
   "metadata": {},
   "outputs": [],
   "source": [
    "contents = np.asarray(contents)"
   ]
  },
  {
   "cell_type": "code",
   "execution_count": 18,
   "metadata": {},
   "outputs": [],
   "source": [
    "samples = np.zeros(shape=(contents.shape[0], contents.shape[1], max_seq_length, word_dim))"
   ]
  },
  {
   "cell_type": "code",
   "execution_count": 19,
   "metadata": {},
   "outputs": [],
   "source": [
    "for i in range(contents.shape[0]):\n",
    "    for j in range(contents.shape[1]):\n",
    "        for k in range(max_seq_length):\n",
    "            samples[i, j, k, :] = word2vec.wv[contents[i, j][k]]"
   ]
  },
  {
   "cell_type": "code",
   "execution_count": 20,
   "metadata": {},
   "outputs": [],
   "source": [
    "# TODO use closest cosine distance to find output word."
   ]
  },
  {
   "cell_type": "markdown",
   "metadata": {},
   "source": [
    "## Funciton Definitions"
   ]
  },
  {
   "cell_type": "code",
   "execution_count": null,
   "metadata": {},
   "outputs": [],
   "source": []
  },
  {
   "cell_type": "code",
   "execution_count": null,
   "metadata": {},
   "outputs": [],
   "source": []
  },
  {
   "cell_type": "code",
   "execution_count": 21,
   "metadata": {},
   "outputs": [],
   "source": [
    "def squareError(xTrue, xPred):\n",
    "    return K.square(xTrue - xPred)\n"
   ]
  },
  {
   "cell_type": "code",
   "execution_count": 22,
   "metadata": {},
   "outputs": [],
   "source": [
    "def reconstructionLoss(sample, encoder, decoder, f_w, weight): # (L_1 from the paper)\n",
    "    return K.mean(squareError(sample, decoder(encoder(sample)))) + K.mean(weight*K.log(f_w(encoder(sample))))\n"
   ]
  },
  {
   "cell_type": "code",
   "execution_count": 23,
   "metadata": {},
   "outputs": [],
   "source": [
    "def divergenceLoss(f_w, encoder, sample, z_j, n_j): # Mean of log f_w(E_theta_i(x_j)) + log (1-f_w(z_j, n_j)) from the paper (L_2).\n",
    "    return K.mean(K.log(f_w(encoder(sample)))) + K.mean(K.log(1 - f_w([z_j, n_j])))\n"
   ]
  },
  {
   "cell_type": "code",
   "execution_count": 24,
   "metadata": {},
   "outputs": [],
   "source": [
    "def sample(data, domain, num_samples):\n",
    "    N = data.shape[1]\n",
    "    return tf.convert_to_tensor(data[domain, np.random.choice(N, num_samples, replace=True),:,:], dtype=tf.float32)\n"
   ]
  },
  {
   "cell_type": "code",
   "execution_count": 25,
   "metadata": {},
   "outputs": [],
   "source": [
    "# Currently just doing a restriction to the last z variables, might want to do a matrix multiplication?\n",
    "# pi_Z from the paper. projects a latent distribution in (z, n) to z\n",
    "def projectZ(encoded):\n",
    "    return encoded[0] # take zs."
   ]
  },
  {
   "cell_type": "code",
   "execution_count": 26,
   "metadata": {},
   "outputs": [],
   "source": [
    "def projectN(encoded):\n",
    "    return encoded[1] # taek Ns."
   ]
  },
  {
   "cell_type": "code",
   "execution_count": 27,
   "metadata": {},
   "outputs": [],
   "source": [
    "# takes in two inputs, n and z, and outputs samples.\n",
    "def createDecoder(z_dims, n_dims, time_steps, output_dims):\n",
    "    # TODO MAYBE: Add in more regularization or different than dropout?\n",
    "\n",
    "    z_inputs = Input(shape=(z_dims,))\n",
    "    n_inputs = Input(shape=(n_dims,))\n",
    "    inputs = concatenate([z_inputs, n_inputs])\n",
    "#     # 150 is arbitrary rn...\n",
    "#     dense = Dense(150)(inputs)\n",
    "    dense = Dense(time_steps*output_dims)(inputs)\n",
    "    reshape = Reshape((time_steps, output_dims))(dense)\n",
    "    # TODO Reshape to enforce time_steps?\n",
    "    bilstm = Bidirectional(LSTM(64, activation='tanh', return_sequences=True))(reshape)\n",
    "    bilstm = Dropout(0.2)(bilstm)\n",
    "    bilstm = Bidirectional(LSTM(64, activation='tanh', return_sequences=False))(bilstm)\n",
    "    bilstm = Dropout(0.2)(bilstm)\n",
    "    \n",
    "    dense = Dense(time_steps*output_dims, activation='linear')(bilstm)\n",
    "    outputs = Reshape((time_steps, output_dims))(dense)\n",
    "    \n",
    "    model = Model(inputs=[z_inputs, n_inputs], outputs=outputs)\n",
    "    \n",
    "    return model"
   ]
  },
  {
   "cell_type": "code",
   "execution_count": 28,
   "metadata": {},
   "outputs": [],
   "source": [
    "def createEncoder(time_steps, input_num, z_dims, n_dims):\n",
    "    # TODO MAYBE: Add in more regularization or different than dropout?\n",
    "    inputs = Input(shape=(time_steps, input_num,))\n",
    "    bilstm = Bidirectional(LSTM(64, activation='tanh', return_sequences=True))(inputs)\n",
    "    bilstm = Dropout(0.2)(bilstm)\n",
    "    dense = Bidirectional(LSTM(64, activation='tanh', return_sequences=False))(bilstm)\n",
    "    dense = Dropout(0.2)(dense)\n",
    "    z_output = Dense(z_dims, activation='linear')(dense)\n",
    "    n_output = Dense(n_dims, activation='linear')(dense)\n",
    "    \n",
    "    model = Model(inputs=inputs, outputs=[z_output, n_output])\n",
    "    \n",
    "    return model"
   ]
  },
  {
   "cell_type": "code",
   "execution_count": 29,
   "metadata": {},
   "outputs": [],
   "source": [
    "def createDiscriminator(z_dims, n_dims):\n",
    "    z_inputs = Input(shape=(z_dims,))\n",
    "    n_inputs = Input(shape=(n_dims,))\n",
    "    inputs = concatenate([z_inputs, n_inputs])\n",
    "    \n",
    "    # 150, 100 is arbitrary rn...\n",
    "    dense = Dense(150, activation='relu')(inputs)\n",
    "    dense = Dense(100, activation='relu')(dense)\n",
    "    output = Dense(1, activation='sigmoid')(dense)\n",
    "    \n",
    "    model = Model(inputs=[z_inputs, n_inputs], outputs=output)\n",
    "    \n",
    "    return model"
   ]
  },
  {
   "cell_type": "code",
   "execution_count": 30,
   "metadata": {},
   "outputs": [],
   "source": [
    "lr = 5e-4\n",
    "enc_optimizer = tf.keras.optimizers.Adam(lr)\n",
    "dec_optimizer = tf.keras.optimizers.Adam(lr)\n",
    "disc_optimizer = tf.keras.optimizers.Adam(lr)"
   ]
  },
  {
   "cell_type": "code",
   "execution_count": null,
   "metadata": {},
   "outputs": [],
   "source": []
  },
  {
   "cell_type": "code",
   "execution_count": null,
   "metadata": {},
   "outputs": [],
   "source": []
  },
  {
   "cell_type": "markdown",
   "metadata": {},
   "source": [
    "### When $P_Z$ is known... "
   ]
  },
  {
   "cell_type": "code",
   "execution_count": 31,
   "metadata": {},
   "outputs": [],
   "source": [
    "\n",
    "# k is num of domains.\n",
    "# encoders is a list of encoders.\n",
    "# decoders is list of decoders.\n",
    "# samples is a K x N x Timesteps x dim, array of samples, where the 0th index is the domain,\n",
    "# the 1th index is the # of the sample in that domain, 2th index is the # timesteps per sequence, 3th index is the #\n",
    "# of dimensions at each timestep\n",
    "# original_domains is a list of the original domains P_z was derived from.\n",
    "\n",
    "# Currently assuming P_Z is known. Must approximate P_Z first.\n",
    "def trainAutoencodersWithPz(samples, encoders, decoders, discriminator, num_samples, original_domains, epochs=10, weight=1.0):\n",
    "    N = samples.shape[1]\n",
    "    k = samples.shape[0]\n",
    "        \n",
    "    \n",
    "    for i in range(k):\n",
    "        if i not in original_domains:\n",
    "            original_domain = np.random.choice(original_domains)\n",
    "            encoder = encoders[i]\n",
    "            decoder = decoders[i]\n",
    "            original_encoder = encoders[original_domain]\n",
    "            epoch = 0\n",
    "            while(epoch < epochs): # TOOD: could also do until some convergence criteria.\n",
    "                p_Xi_samples = sample(samples, i, num_samples)\n",
    "                p_Z_samples = projectZ(original_encoder(sample(samples, original_domain, num_samples)))\n",
    "                p_Ni_samples = projectN(encoder(sample(samples, i, num_samples)))\n",
    "\n",
    "                with tf.GradientTape() as enc_tape, tf.GradientTape() as dec_tape, tf.GradientTape() as disc_tape:\n",
    "\n",
    "                    reconstruction_loss = reconstructionLoss(p_Xi_samples, encoder, decoder, discriminator, weight)\n",
    "\n",
    "                    # negative b/c gradient ascent.\n",
    "                    divergence_loss = -1 * divergenceLoss(discriminator, encoder, p_Xi_samples, p_Z_samples, p_Ni_samples)\n",
    "\n",
    "                gradients_of_encoder = enc_tape.gradient(reconstruction_loss, encoder.trainable_variables)\n",
    "                gradients_of_decoder = dec_tape.gradient(reconstruction_loss, decoder.trainable_variables)\n",
    "                gradients_of_discriminator = disc_tape.gradient(divergence_loss, discriminator.trainable_variables)\n",
    "\n",
    "\n",
    "                enc_optimizer.apply_gradients(zip(gradients_of_encoder, encoder.trainable_variables))\n",
    "                dec_optimizer.apply_gradients(zip(gradients_of_decoder, decoder.trainable_variables))\n",
    "                disc_optimizer.apply_gradients(zip(gradients_of_discriminator, discriminator.trainable_variables))\n",
    "                \n",
    "                print('Domain {}, Epoch {}:\\n\\tReconstruction Loss: {}\\n\\tDivergence Loss: {}'.format(i, epoch+1, reconstruction_loss, divergence_loss))\n",
    "                epoch+=1\n",
    "            "
   ]
  },
  {
   "cell_type": "markdown",
   "metadata": {},
   "source": [
    "### When $P_Z$ is unknown...\n",
    "\"A straight-forward approach for learning the latent distribution PZ is to train a regularized autoencoder on data from a\n",
    "single representative domain. However, such a representation could potentially capture variability that is specific to\n",
    "that one domain. To learn a more invariant latent representation, we propose the following extension of our autoencoder\n",
    "framework. The basic idea is to alternate between training\n",
    "multiple autoencoders until they agree on a latent representation that is effective for their respective domains. This is\n",
    "particularly relevant for applications to biology; for example, often one is interested in learning a latent representation\n",
    "that integrates all of the data modalities.\""
   ]
  },
  {
   "cell_type": "code",
   "execution_count": 32,
   "metadata": {},
   "outputs": [],
   "source": [
    "\n",
    "# k is num of domains.\n",
    "# encoders is a list of encoders.\n",
    "# decoders is list of decoders.\n",
    "# samples is a K x N x Timesteps x dim, array of samples, where the 0th index is the domain,\n",
    "# the 1th index is the # of the sample in that domain, 2th index is the # timesteps per sequence, 3th index is the #\n",
    "# of dimensions at each timestep\n",
    "# domains is a list of the domains we are currently training over.\n",
    "\n",
    "def trainAutoencodersInitial(samples, encoders, decoders, discriminator, num_samples, domains, epochs=10, weight=1.0):\n",
    "    N = samples.shape[1]\n",
    "    k = samples.shape[0]\n",
    "    \n",
    "    for i in domains:\n",
    "        encoder = encoders[i]\n",
    "        decoder = decoders[i]\n",
    "        for j in domains:\n",
    "            if i != j:\n",
    "                j_encoder = encoders[j]\n",
    "                epoch = 0\n",
    "                while(epoch < epochs): # TOOD: could also do until some convergence criteria.\n",
    "                    p_Xi_samples = sample(samples, i, num_samples)\n",
    "                    p_Zj_samples = projectZ(j_encoder(sample(samples, j, num_samples)))\n",
    "                    p_Ni_samples = projectN(encoder(sample(samples, i, num_samples)))\n",
    "\n",
    "                    with tf.GradientTape() as enc_tape, tf.GradientTape() as dec_tape, tf.GradientTape() as disc_tape:\n",
    "\n",
    "                        reconstruction_loss = reconstructionLoss(p_Xi_samples, encoder, decoder, discriminator, weight)\n",
    "#                         print(p_Xi_samples)\n",
    "\n",
    "                        # negative b/c gradient ascent.\n",
    "                        divergence_loss = -1 * divergenceLoss(discriminator, encoder, p_Xi_samples, p_Zj_samples, p_Ni_samples)\n",
    "#                         print(p_Zj_samples)\n",
    "#                         print(p_Ni_samples)\n",
    "                        \n",
    "                    gradients_of_encoder = enc_tape.gradient(reconstruction_loss, encoder.trainable_variables)\n",
    "                    gradients_of_decoder = dec_tape.gradient(reconstruction_loss, decoder.trainable_variables)\n",
    "                    gradients_of_discriminator = disc_tape.gradient(divergence_loss, discriminator.trainable_variables)\n",
    "            \n",
    "\n",
    "                    enc_optimizer.apply_gradients(zip(gradients_of_encoder, encoder.trainable_variables))\n",
    "                    dec_optimizer.apply_gradients(zip(gradients_of_decoder, decoder.trainable_variables))\n",
    "                    disc_optimizer.apply_gradients(zip(gradients_of_discriminator, discriminator.trainable_variables))\n",
    "                    \n",
    "                    print('Domain {}, Epoch {}:\\n\\tReconstruction Loss: {}\\n\\tDivergence Loss: {}'.format(i, epoch+1, reconstruction_loss, divergence_loss))\n",
    "                    epoch+=1\n",
    "            "
   ]
  },
  {
   "cell_type": "code",
   "execution_count": 33,
   "metadata": {},
   "outputs": [],
   "source": [
    "# samples is a K x N x Timesteps x dim, array of samples, where the 0th index is the domain,\n",
    "# the 1th index is the # of the sample in that domain, 2th index is the # timesteps per sequence, 3th index is the #\n",
    "# of dimensions at each timestep\n",
    "\n",
    "def initModel(samples, z_dims, n_dims):\n",
    "    \n",
    "    k = samples.shape[0]\n",
    "    N = samples.shape[1]\n",
    "    time_steps = samples.shape[2]\n",
    "    dim = samples.shape[3]\n",
    "    \n",
    "    \n",
    "    \n",
    "    discriminator = createDiscriminator(z_dims, n_dims)\n",
    "    \n",
    "    encoders = []\n",
    "    decoders = []\n",
    "    \n",
    "    for i in range(k):\n",
    "        encoders.append(createEncoder(time_steps, dim, z_dims, n_dims))\n",
    "        decoders.append(createDecoder(z_dims, n_dims, time_steps, dim))\n",
    "    \n",
    "    return encoders, decoders, discriminator"
   ]
  },
  {
   "cell_type": "code",
   "execution_count": 34,
   "metadata": {},
   "outputs": [],
   "source": [
    "def translate(start_sequences, samples, encoders, decoders, start_domain, end_domain):\n",
    "    N = samples.shape[1]\n",
    "    print(start_sequences.shape)\n",
    "    num_samples = start_sequences.shape[0]\n",
    "    \n",
    "    start_encoder = encoders[start_domain]\n",
    "    end_encoder = encoders[end_domain]\n",
    "    end_decoder = decoders[end_domain]\n",
    "    \n",
    "    z = projectZ(start_encoder(start_sequences))\n",
    "    n = projectN(end_encoder(sample(samples, end_domain, num_samples)))\n",
    "    \n",
    "    end_sequences = end_decoder([z, n])\n",
    "    return end_sequences\n",
    "    "
   ]
  },
  {
   "cell_type": "code",
   "execution_count": 35,
   "metadata": {},
   "outputs": [],
   "source": [
    "def vecSeqToSentence(sequence):\n",
    "    sequence = K.eval(sequence)\n",
    "    sentence = []\n",
    "    for i in range(sequence.shape[0]):\n",
    "        word = sequence[i,:]\n",
    "#         print(word)\n",
    "#         print(word2vec.wv.similar_by_vector(word))\n",
    "        sentence.append(word2vec.wv.similar_by_vector(word)[0][0])\n",
    "    print(sentence)"
   ]
  },
  {
   "cell_type": "code",
   "execution_count": 43,
   "metadata": {},
   "outputs": [],
   "source": [
    "n_dims = 60 # len(n)\n",
    "z_dims = 240 # len(Z)\n",
    "\n",
    "num_epochs = 20\n",
    "num_samples = 128\n",
    "\n",
    "original_domains = [0, 1]\n",
    "\n"
   ]
  },
  {
   "cell_type": "code",
   "execution_count": 44,
   "metadata": {},
   "outputs": [],
   "source": [
    "# samples = tf.convert_to_tensor(samples)"
   ]
  },
  {
   "cell_type": "code",
   "execution_count": 45,
   "metadata": {},
   "outputs": [],
   "source": [
    "encoders, decoders, discriminator = initModel(samples, z_dims, n_dims)"
   ]
  },
  {
   "cell_type": "markdown",
   "metadata": {},
   "source": [
    "### Original First Sentence from 0"
   ]
  },
  {
   "cell_type": "code",
   "execution_count": 46,
   "metadata": {},
   "outputs": [
    {
     "data": {
      "text/plain": [
       "'on tuesday ’ s broadcast of cnn ’ s “ situation room , ” cnn senior washington correspondent jeff zeleny stated that chelsea manning ’ s transition from a man to a woman “ certainly played into ” president obama ’ s decision to commute manning ’ s sentence , and “ without that , it ’ s hard to imagine , i think , this president would have done that . ” zeleny said , “ i think a question that this president the white house will have to answer here — will answer , and i think it ’ s an important one , if — how much was the personal story of chelsea manning involved in this , because the outcry from the left was so strong on this . and she ’ s having a difficult time in federal prison , no question . but , to me , that is a central question here . without that , you have to wonder if the outcome would be the same . i think it might not be . ” he added , “ [ b ] ecause she transitioned from a man to a woman , i think all of that certainly played into this . ~?@_ ~?@_ ~?@_ ~?@_ ~?@_ ~?@_ ~?@_ ~?@_ ~?@_ ~?@_ ~?@_ ~?@_ ~?@_ ~?@_ ~?@_ ~?@_ ~?@_ ~?@_ ~?@_ ~?@_ ~?@_ ~?@_ ~?@_ ~?@_ ~?@_ ~?@_ ~?@_ ~?@_ ~?@_ ~?@_ ~?@_ ~?@_ ~?@_ ~?@_ ~?@_ ~?@_ ~?@_ ~?@_ ~?@_ ~?@_ ~?@_ ~?@_ ~?@_ ~?@_ ~?@_ ~?@_ ~?@_ ~?@_ ~?@_ ~?@_ ~?@_ ~?@_ ~?@_ ~?@_ ~?@_ ~?@_ ~?@_ ~?@_ ~?@_ ~?@_ ~?@_ ~?@_ ~?@_ ~?@_ ~?@_ ~?@_ ~?@_ ~?@_ ~?@_ ~?@_ ~?@_ ~?@_ ~?@_ ~?@_ ~?@_ ~?@_ ~?@_ ~?@_ ~?@_ ~?@_ ~?@_ ~?@_ ~?@_ ~?@_ ~?@_ ~?@_ ~?@_ ~?@_ ~?@_ ~?@_ ~?@_ ~?@_ ~?@_ ~?@_ ~?@_ ~?@_ ~?@_'"
      ]
     },
     "execution_count": 46,
     "metadata": {},
     "output_type": "execute_result"
    }
   ],
   "source": [
    "' '.join(contents[0, 0])"
   ]
  },
  {
   "cell_type": "code",
   "execution_count": 47,
   "metadata": {},
   "outputs": [
    {
     "name": "stdout",
     "output_type": "stream",
     "text": [
      "(1, 307, 100)\n"
     ]
    }
   ],
   "source": [
    "seq = tf.convert_to_tensor(np.asarray([samples[0, 0, :, :]]), dtype=tf.float32)\n",
    "translation = translate(seq, samples, encoders, decoders, original_domains[0], original_domains[1])"
   ]
  },
  {
   "cell_type": "markdown",
   "metadata": {},
   "source": [
    "### Original First Sentence from 0 translated to 1 before Training (Random)"
   ]
  },
  {
   "cell_type": "code",
   "execution_count": 48,
   "metadata": {},
   "outputs": [
    {
     "name": "stdout",
     "output_type": "stream",
     "text": [
      "['lasorda', 'putinrf_eng', 'accommodates', 'saperstein', 'declared', 'rare', 'constables', 'still', 'mallaby', 'msnbchttps', 'ishaan', 'evergreen', 'insult.', 'toll', 'crucifying', 'expedition.', 'cbo', 'beiderbecke', 'mccarthy', 'zarah', 'community', 'schlozman', 'achievement.', 'olympique', \"'jerry\", 'superheated', 'serpico', 'probyn', '32m', 'shirking', 'masseur', 'patience.', 'flemington', 'laurate', 'gravitationally', 'aussie', 'luv', 'unopposed', 'subverts', 'boothe', 'anyanwu', 'bardsley', 'lockerbie', 'scrabble', 'interjections', 'foreshortened', 'duet', 'coherent', 'leaves', 'secrétariat', '3099', 'bridgettines', \"'during\", 'aberrations', 'decamp', 'kincaid', 'cements', 'activists', 'showin', 'lerach', 'k.', 'saalihah', 'northumberland.', 'shrove', 'disengagement', 'aboubakar', 'stiviano', 'sabolik', 'candidates', 'pleasingly', 'wasters', 'wilsonian', '3:06', 'whisky', 'worm.', 'hornby', 'zipper', 'badaling', 'defy', '20‑year‑old', 'easy-to-understand', 'your', 'obstruct', 'equalize', 'calle', 'wtc', '.xxx', '1/14', 'crisper', 'warding', 'latimes', 'number.', 'deescalation', 'genera', 'office..', '_____', 'projections', 'bylaw', 'clearance', 'thundered', 'coldblooded', 'depository', 'markelle', 'embarkation', 'unbylined', 'innsmouth', 'cinematographers', 'euroskeptic', 'scam.', 'expeditious', 'campaigning', 'honor.', 'meisel', 'twigg', 'encouragements', 'infection.', 'zabalgoitia', 'moner', 'gallantly', 'grã¼nthal', 'zika', 'arguable', 'lifeboat.', 'ruled', 'construction', 'best-of', '6.56', 'defrosting', 'fifth', '13.99bn', 'atlanticare', '420,000', 'wraz-tv', 'toa', 'strongman', 'rigged', 'formlessness', 'sawiris', 'placate', 'jestine', 'witnessed', 'specially-written', 'spö', 'subsets', 'newsround', 'irregularities.', '[', 'crosser', 'wheelhouse', 'borshchevskaya', 'composting', 'century', 'politicise', 'journal', 'holley', 'ninos', 'chaperones', 'agent.', 'formatting', 'schriock', \"'competing\", 'carville', 'holtville', 'shuster', 'pernalete', 'griffin', 'livery', 'devocheo', 'little', 'keung', 'recommenders', 'aborigines', 'cautiousness', 'ahhhhhhh.', 'rusbridger', \"'gareth\", 'begley', 'intends', 'ethridge', 'gunbattle', 'capital.', 'heerenveen', 'alwia', 'carbon', 'antechambers', 'climatetruth', 'balakian.', 'de-select', '2000s', 'prerogatives', 'labourers', 'aesthetician', 'embrace', 'cosmic.', 'terabyte-size', 'aaltra', 'lasting', 'adriane', \"'privileged\", 'agog', 'yt', 'encrypt', 'umpteenth', 'armaments', 'cliff.', 'njmg', 'marlise', 'arise.', 'unsatisfied', 'cicely', 'agatha', 'albino', 'udk', 'scif', 'merz', 'founding', '£130,000', \"'earlier\", \"'be\", '●repeated', 'stavropol', 'carnations', 'directorate', 'joyvilla', 'omitting', 'dealmakers.', 'funerary', 'em.', 'mersey', 'second.', 'dehiba', 'rejected', 'supermax', \"'february\", 'shite', 'much', 'cochrane.', 'had', 'tillerson', 'mythsnew', 'ex-welsh', 'odbes', 'stewardess', '84,000', 'counterinauguration', 'schmeler', 'zuck', 'speechless.', 'fabrication.', 'unenthusiastic', \"'wait\", 'inspiring', '5°f', 'gelband', 'chunk', 'eliminable', 'tillerson', 'nize', 'adell', 'eroticism', 'alalmani', \"'certificate\", 'pogroms', 'merci', 'suffered', 'belo', 'relives', 'clouseau', \"'gandula\", 'injury.', 'kaibab', 'quite', 'charnel', 'authors', '1800s.', 'plainclothesmen', '216th', 'collaboratively', 'hundredths', 'presentation.', \"'demand\", 'prêtre', '19.5m', 'insult.', 'untethered', 'chemotherapy.', 'bubble.', \"'doubling\", 'geez', 'moscow-backed', 'simpler.', 'rabbinical', 'shares', 'statesmanly', 'backdated', 'hostages.', \"'gareth\", 'hassling', 'deterte', 'afresh', 'barbecuing', 'denuclearized', 'slimmons', 'council-controlled', 'milin', 'blemished', 'investigating']\n"
     ]
    }
   ],
   "source": [
    "\n",
    "vecSeqToSentence(translation[0,:,:])\n"
   ]
  },
  {
   "cell_type": "code",
   "execution_count": null,
   "metadata": {},
   "outputs": [
    {
     "name": "stdout",
     "output_type": "stream",
     "text": [
      "Domain 0, Epoch 1:\n",
      "\tReconstruction Loss: -0.5384466648101807\n",
      "\tDivergence Loss: 1.356541395187378\n",
      "Domain 0, Epoch 2:\n",
      "\tReconstruction Loss: -0.7197122573852539\n",
      "\tDivergence Loss: 1.3887667655944824\n",
      "Domain 0, Epoch 3:\n",
      "\tReconstruction Loss: -0.8584140539169312\n",
      "\tDivergence Loss: 1.4169220924377441\n",
      "Domain 0, Epoch 4:\n",
      "\tReconstruction Loss: -1.0154470205307007\n",
      "\tDivergence Loss: 1.4374992847442627\n",
      "Domain 0, Epoch 5:\n",
      "\tReconstruction Loss: -1.1578400135040283\n",
      "\tDivergence Loss: 1.4678691625595093\n",
      "Domain 0, Epoch 6:\n",
      "\tReconstruction Loss: -1.3188843727111816\n",
      "\tDivergence Loss: 1.4957636594772339\n",
      "Domain 0, Epoch 7:\n",
      "\tReconstruction Loss: -1.4426950216293335\n",
      "\tDivergence Loss: 1.5021741390228271\n",
      "Domain 0, Epoch 8:\n",
      "\tReconstruction Loss: -1.469617247581482\n",
      "\tDivergence Loss: 1.5013971328735352\n",
      "Domain 0, Epoch 9:\n",
      "\tReconstruction Loss: -1.5720322132110596\n",
      "\tDivergence Loss: 1.5008827447891235\n",
      "Domain 0, Epoch 10:\n",
      "\tReconstruction Loss: -1.6035209894180298\n",
      "\tDivergence Loss: 1.4994441270828247\n",
      "Domain 0, Epoch 11:\n",
      "\tReconstruction Loss: -1.6914019584655762\n",
      "\tDivergence Loss: 1.5025907754898071\n",
      "Domain 0, Epoch 12:\n",
      "\tReconstruction Loss: -1.7725050449371338\n",
      "\tDivergence Loss: 1.5206007957458496\n",
      "Domain 0, Epoch 13:\n",
      "\tReconstruction Loss: -1.7822587490081787\n",
      "\tDivergence Loss: 1.5101122856140137\n",
      "Domain 0, Epoch 14:\n",
      "\tReconstruction Loss: -1.7897852659225464\n",
      "\tDivergence Loss: 1.504277229309082\n",
      "Domain 0, Epoch 15:\n",
      "\tReconstruction Loss: -1.807204246520996\n",
      "\tDivergence Loss: 1.5027722120285034\n",
      "Domain 0, Epoch 16:\n",
      "\tReconstruction Loss: -1.8319729566574097\n",
      "\tDivergence Loss: 1.487518548965454\n",
      "Domain 0, Epoch 17:\n",
      "\tReconstruction Loss: -1.7466117143630981\n",
      "\tDivergence Loss: 1.4528499841690063\n",
      "Domain 0, Epoch 18:\n",
      "\tReconstruction Loss: -1.645312786102295\n",
      "\tDivergence Loss: 1.4020767211914062\n",
      "Domain 0, Epoch 19:\n",
      "\tReconstruction Loss: -1.547326922416687\n",
      "\tDivergence Loss: 1.3542224168777466\n",
      "Domain 0, Epoch 20:\n",
      "\tReconstruction Loss: -1.3746917247772217\n",
      "\tDivergence Loss: 1.3046207427978516\n",
      "Domain 1, Epoch 1:\n",
      "\tReconstruction Loss: -1.2547696828842163\n",
      "\tDivergence Loss: 1.595408320426941\n",
      "Domain 1, Epoch 2:\n",
      "\tReconstruction Loss: -1.626290202140808\n",
      "\tDivergence Loss: 1.8119088411331177\n",
      "Domain 1, Epoch 3:\n",
      "\tReconstruction Loss: -2.029493808746338\n",
      "\tDivergence Loss: 1.9991075992584229\n",
      "Domain 1, Epoch 4:\n",
      "\tReconstruction Loss: -2.508819341659546\n",
      "\tDivergence Loss: 2.1653339862823486\n",
      "Domain 1, Epoch 5:\n",
      "\tReconstruction Loss: -2.976743221282959\n",
      "\tDivergence Loss: 2.288379192352295\n",
      "Domain 1, Epoch 6:\n",
      "\tReconstruction Loss: -3.4493885040283203\n",
      "\tDivergence Loss: 2.4068732261657715\n",
      "Domain 1, Epoch 7:\n",
      "\tReconstruction Loss: -3.9332993030548096\n",
      "\tDivergence Loss: 2.498579740524292\n",
      "Domain 1, Epoch 8:\n",
      "\tReconstruction Loss: -4.364331245422363\n",
      "\tDivergence Loss: 2.5820744037628174\n",
      "Domain 1, Epoch 9:\n",
      "\tReconstruction Loss: -4.73253059387207\n",
      "\tDivergence Loss: 2.645134687423706\n",
      "Domain 1, Epoch 10:\n",
      "\tReconstruction Loss: -5.0696306228637695\n",
      "\tDivergence Loss: 2.6858901977539062\n",
      "Domain 1, Epoch 11:\n",
      "\tReconstruction Loss: -5.26632833480835\n",
      "\tDivergence Loss: 2.698762893676758\n",
      "Domain 1, Epoch 12:\n",
      "\tReconstruction Loss: -5.385936737060547\n",
      "\tDivergence Loss: 2.672089099884033\n",
      "Domain 1, Epoch 13:\n",
      "\tReconstruction Loss: -5.337821960449219\n",
      "\tDivergence Loss: 2.6115736961364746\n",
      "Domain 1, Epoch 14:\n",
      "\tReconstruction Loss: -5.120162010192871\n",
      "\tDivergence Loss: 2.4979894161224365\n",
      "Domain 1, Epoch 15:\n",
      "\tReconstruction Loss: -4.79319953918457\n",
      "\tDivergence Loss: 2.3454108238220215\n",
      "Domain 1, Epoch 16:\n",
      "\tReconstruction Loss: -4.332942008972168\n",
      "\tDivergence Loss: 2.1640028953552246\n",
      "Domain 1, Epoch 17:\n",
      "\tReconstruction Loss: -3.837174415588379\n",
      "\tDivergence Loss: 1.964382529258728\n",
      "Domain 1, Epoch 18:\n",
      "\tReconstruction Loss: -3.2619290351867676\n",
      "\tDivergence Loss: 1.7489771842956543\n",
      "Domain 1, Epoch 19:\n",
      "\tReconstruction Loss: -2.649060010910034\n",
      "\tDivergence Loss: 1.5465712547302246\n"
     ]
    }
   ],
   "source": [
    "trainAutoencodersInitial(samples, encoders, decoders, discriminator, num_samples, original_domains, epochs=num_epochs, weight=3)\n"
   ]
  },
  {
   "cell_type": "markdown",
   "metadata": {},
   "source": [
    "### Original First Sentence from 0 translated to 1 after training"
   ]
  },
  {
   "cell_type": "code",
   "execution_count": null,
   "metadata": {},
   "outputs": [],
   "source": [
    "translation = translate(seq, samples, encoders, decoders, original_domains[0], original_domains[1])\n",
    "vecSeqToSentence(translation[0,:,:])"
   ]
  },
  {
   "cell_type": "code",
   "execution_count": null,
   "metadata": {},
   "outputs": [],
   "source": [
    "trainAutoencodersWithPz(samples, encoders, decoders, discriminator, num_samples, original_domains, epochs=num_epochs, weight=3)\n"
   ]
  },
  {
   "cell_type": "markdown",
   "metadata": {},
   "source": [
    "### Original First Sentence from 0 translated to 2 after Training"
   ]
  },
  {
   "cell_type": "code",
   "execution_count": null,
   "metadata": {},
   "outputs": [],
   "source": [
    "translation = translate(seq, samples, encoders, decoders, 0, 2)\n",
    "vecSeqToSentence(translation[0,:,:])"
   ]
  },
  {
   "cell_type": "markdown",
   "metadata": {},
   "source": [
    "## Evaluation with Rouge"
   ]
  },
  {
   "cell_type": "code",
   "execution_count": null,
   "metadata": {},
   "outputs": [],
   "source": [
    "df = pd.read_pickle('data/evaluation.pkl')\n",
    "df"
   ]
  },
  {
   "cell_type": "code",
   "execution_count": null,
   "metadata": {},
   "outputs": [],
   "source": [
    "contents = []\n",
    "for pub in publications:\n",
    "    contents.append(np.asarray(df[df['publication'] == pub]['content']))\n",
    "    \n",
    "for content in contents:\n",
    "    for seq in content:\n",
    "        seq.extend([end_token] * (max_seq_length - len(seq)))\n",
    "    \n",
    "contents = np.asarray(contents)\n",
    "samples = np.zeros(shape=(contents.shape[0], contents.shape[1], max_seq_length, word_dim))\n",
    "\n",
    "for i in range(contents.shape[0]):\n",
    "    for j in range(contents.shape[1]):\n",
    "        for k in range(max_seq_length):\n",
    "            samples[i, j, k, :] = word2vec.wv[contents[i, j][k]]"
   ]
  },
  {
   "cell_type": "code",
   "execution_count": null,
   "metadata": {},
   "outputs": [],
   "source": [
    "detok = TreebankWordDetokenizer()\n",
    "\n",
    "evaluator = rouge.Rouge(metrics=['rouge-n', 'rouge-l', 'rouge-w'],\n",
    "                        max_n=4,\n",
    "                        limit_length=True,\n",
    "                        length_limit=100,\n",
    "                        length_limit_type='words',\n",
    "                        apply_avg=False,\n",
    "                        apply_best=True,\n",
    "                        alpha=0.5, # Default F1_score\n",
    "                        weight_factor=1.2,\n",
    "                        stemming=True)"
   ]
  },
  {
   "cell_type": "code",
   "execution_count": null,
   "metadata": {},
   "outputs": [],
   "source": [
    "def evaluateOnArticles(articles, encoder, decoder):\n",
    "    translated = decoder(encoder(tf.convert_to_tensor(articles, dtype=tf.float32)))\n",
    "       \n",
    "    original_sentences = [detok.detokenize(tokens) for tokens in articles]\n",
    "    \n",
    "    translated_sentences = [vecSeqToSentence(tokens) for tokens in translated]\n",
    "    \n",
    "    scores = evaluator.get_scores(translated_sentences, original_sentences)\n",
    "    \n",
    "    for metric, results in sorted(scores.items(), key=lambda x: x[0]):\n",
    "        print('\\t{}:\\t{}: {:5.2f}\\t{}: {:5.2f}\\t{}: {:5.2f}'.format(metric, 'P', 100.0 * results['p'], 'R', 100.0 * results['r'], 'F1', 100.0 * results['f']))"
   ]
  },
  {
   "cell_type": "code",
   "execution_count": null,
   "metadata": {},
   "outputs": [],
   "source": [
    "def evaluate(articles, encoders, decoders):\n",
    "    \n",
    "    publications = articles_df.publication.unique()\n",
    "    for i in range(len(publications)):\n",
    "        for j in range(len(publications)):\n",
    "            if (i != j):\n",
    "                pub1=publications[i]\n",
    "                pub2=publications[j]\n",
    "                #source_articles = articles_df.loc[articles_df['publication'] == pub1]['content'].tolist()\n",
    "                source_articles = articles[i]\n",
    "                \n",
    "                print(pub1,\"to\",pub2)\n",
    "                evaluateOnArticles(source_articles, encoders[i], decoders[j])\n",
    "                print()"
   ]
  },
  {
   "cell_type": "code",
   "execution_count": null,
   "metadata": {},
   "outputs": [],
   "source": [
    "evaluate(samples, encoders, decoders)"
   ]
  }
 ],
 "metadata": {
  "kernelspec": {
   "display_name": "Python 3",
   "language": "python",
   "name": "python3"
  },
  "language_info": {
   "codemirror_mode": {
    "name": "ipython",
    "version": 3
   },
   "file_extension": ".py",
   "mimetype": "text/x-python",
   "name": "python",
   "nbconvert_exporter": "python",
   "pygments_lexer": "ipython3",
   "version": "3.6.8"
  }
 },
 "nbformat": 4,
 "nbformat_minor": 2
}
